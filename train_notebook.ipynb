{
 "cells": [
  {
   "cell_type": "code",
   "execution_count": null,
   "metadata": {},
   "outputs": [],
   "source": [
    "!CUDA_VISIBLE_DEVICES=0"
   ]
  },
  {
   "cell_type": "code",
   "execution_count": null,
   "metadata": {},
   "outputs": [],
   "source": [
    "# run training on RAWFC dataset\n",
    "!python source/extractor_train.py --model_name_or_path roberta-base --dataset_name RAWFC --output_dir ./runnings/step1_extraction_model_RAWFC --do_train --train_batch_size 2 --num_train_epochs 5 --eval_batch_size 32 --eval_steps 500 --max_seq_len 64 --gradient_accumulation_steps 1 --correlation_method mlp --learning_rate 1e-5 --cls_loss_weight 0.9"
   ]
  },
  {
   "cell_type": "code",
   "execution_count": null,
   "metadata": {},
   "outputs": [],
   "source": [
    "# run train on LIAR-RAW dataset\n",
    "!python source/extractor_train.py --model_name_or_path roberta-base --dataset_name LIAR_RAW --output_dir ./runnings/step1_extraction_model_LIAR-RAW --do_train --train_batch_size 2 --num_train_epochs 5 --eval_batch_size 32 --eval_steps 500 --max_seq_len 64 --gradient_accumulation_steps 1 --correlation_method mlp --learning_rate 1e-5 --cls_loss_weight 0.9"
   ]
  }
 ],
 "metadata": {
  "language_info": {
   "name": "python"
  }
 },
 "nbformat": 4,
 "nbformat_minor": 2
}
