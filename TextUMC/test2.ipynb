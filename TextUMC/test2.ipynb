{
 "cells": [
  {
   "cell_type": "markdown",
   "metadata": {},
   "source": [
    "# Setup Environment and Dependencies\n",
    "Import required libraries (torch, transformers, sklearn) and set up initial configurations including rich console setup."
   ]
  },
  {
   "cell_type": "code",
   "execution_count": 1,
   "metadata": {},
   "outputs": [],
   "source": [
    "# Cell 1 - Setup and Imports\n",
    "from model import *  # Import all functions from model.py\n",
    "import torch\n",
    "import numpy as np\n",
    "import matplotlib.pyplot as plt\n",
    "from rich.console import Console\n",
    "from rich.traceback import install\n",
    "\n",
    "# Initialize console and traceback\n",
    "install(show_locals=False)\n",
    "console = Console()"
   ]
  },
  {
   "cell_type": "code",
   "execution_count": 4,
   "metadata": {},
   "outputs": [
    {
     "name": "stdout",
     "output_type": "stream",
     "text": [
      "Claim: Im not a conspiracy theorist and I never allow conspiracy theorists on my program.\n",
      "Number of evidences: 28\n"
     ]
    }
   ],
   "source": [
    "# Define Evidence dataclass\n",
    "@dataclass\n",
    "class Evidence:\n",
    "    \"\"\"Represents a piece of evidence associated with a claim.\"\"\"\n",
    "    evidence_id: str\n",
    "    content: str\n",
    "    embedding: Optional[np.ndarray] = None\n",
    "\n",
    "# Define Claim dataclass\n",
    "@dataclass\n",
    "class Claim:\n",
    "    \"\"\"Represents a claim with its associated metadata and evidences.\"\"\"\n",
    "    claim_id: str\n",
    "    content: str\n",
    "    label: int\n",
    "    explanation: str\n",
    "    evidences: List[Evidence] = field(default_factory=list)\n",
    "    embedding: Optional[np.ndarray] = None\n",
    "    clustered_evidences: Optional[Dict[int, List[Evidence]]] = None\n",
    "\n",
    "# Cell 2 - Load Example Data\n",
    "# Load example data from LIAR dataset\n",
    "example_data = json.load(open(\"../dataset/LIAR-RAW/test.json\"))[403]\n",
    "example_claim = Claim(\n",
    "    claim_id=\"403\",\n",
    "    content=example_data[\"claim\"],\n",
    "    label=example_data[\"label\"],\n",
    "    explanation=example_data[\"explain\"],\n",
    ")\n",
    "\n",
    "# Load evidences\n",
    "for evidence in example_data[\"reports\"]:\n",
    "    example_claim.evidences.append(\n",
    "        Evidence(evidence_id=evidence[\"report_id\"], content=evidence[\"content\"])\n",
    "    )\n",
    "\n",
    "print(f\"Claim: {example_claim.content}\")\n",
    "print(f\"Number of evidences: {len(example_claim.evidences)}\")"
   ]
  },
  {
   "cell_type": "code",
   "execution_count": 6,
   "metadata": {},
   "outputs": [],
   "source": [
    "evidences = example_claim.evidences\n",
    "\n",
    "# Get evidence texts\n",
    "evidence_texts = [ev.content for ev in evidences]\n",
    "\n",
    "# Adjust parameters based on evidence count\n",
    "batch_size = min(32, len(evidence_texts))"
   ]
  },
  {
   "cell_type": "code",
   "execution_count": 9,
   "metadata": {},
   "outputs": [
    {
     "data": {
      "text/plain": [
       "(['In the current research , we investigate whether belief in conspiracy theory satisfy people ’ s need for uniqueness .\\n We find that the tendency to believe in conspiracy theory be associate with the feeling of possess scarce information about the situation explain by the conspiracy theory ( Study 1 ) and high need for uniqueness ( Study 2 ) .\\n Further two study use two different manipulation of need for uniqueness ( Studies 3 and 4 ) show that people in a high need for uniqueness condition display high conspiracy belief than people in a low need for uniqueness condition .\\n These study suggest that conspiracy theory may serve people ’ s desire to be unique , highlight a motivational underpinning of conspiracy belief .\\n , the 2001 tsunami in Japan ) , many people start to disbelieve official explanation in favor of what be know a conspiracy theory .\\n For example , one conspiracy theory attribute the Charlie Hebdo attack to Mossad a an effort to make Muslims look bad .\\n In recent year , psychologist have make significant ground in understand what draw people to conspiracy theory .\\n , 2010 , 2011 ) , narcissism ( Cichocka , Marchlewska , & Golec de Zavala , 2016 ) , and Machiavellianism ( Douglas & Sutton , 2011 ) be associate with conspiracy belief .\\n In term of cognitive process , people with strong conspiracy belief be more likely to overestimate the likelihood of co-occurring event ( Brotherton & French , 2014 ) , to attribute intentionality where it be unlikely to exist ( Brotherton & French , 2015 ; Douglas , Sutton , Callan , Dawtry , & Harvey , 2016 ) , and to have low level of analytic thinking ( Swami , Voracek , Stieger , Tran , & Furnham , 2014 ) .\\n Further , some research suggest that conspiracy theory may perform certain function for the self , allow people to regain a sense of control ( van Prooijen & Acker , 2015 ; Whitson & Galinsky , 2008 ) , order ( van Harreveld , Rutjens , Schneider , Nohlen , & Keskinis , 2014 ) , power ( Gray , 2010 ; Sapountzis & Condor , 2013 ) , and to relieve death anxiety ( Newheiser , Farias , & Tausch , 2011 ) .\\n The current research aim to further contribute to current knowledge about the personal need that may be satisfy by conspiracy belief .\\n Among the self-related motivation that could influence belief in conspiracy theory , we will argue that the need for uniqueness should play a role in people ’ s adherence to conspiracy theory .\\n More specifically , our general claim be that people with a high need for uniqueness should be more likely to believe in conspiracy theory .\\n OverviewIn the current research , we test the overarch hypothesis that the desire to feel unique should foster belief in conspiracy theory .\\n Thus , in Study 1 , we test whether people who endorse conspiracy theory be more likely to think that they possess scarce and secret information about various conspiracy theory .\\n Hence , in Study 2 , we test whether people with a high need for uniqueness also believe in conspiracy theory to a large extent .\\n Of course , it could be that people believe in conspiracy theory without have information about them .\\n Study 2After establish in Study 1 that belief in conspiracy theory could serve the purpose of feel unique , the goal of Study 2 be to directly test whether people with a chronic high need for uniqueness believe in conspiracy theory to a large extent .\\n without mention the expression “ conspiracy theory .\\n Results and DiscussionWe first test our main prediction , that people with a high need for uniqueness should have a high level of belief in conspiracy theory .\\n In line with this hypothesis and with our preliminary work , we find that a high need for uniqueness ( measure by the Self-Attributed Need for Uniqueness scale ) be associate with high belief in conspiracy theory ( measure with the Generic Conspiracist Beliefs scale ) , r ( 206 ) = .\\n Then , we test the relationship between the three underlie factor of need for uniqueness and conspiracy belief ( both linear and quadratic regression ) .\\n To avoid the use of too many statistical test , we combine our two measure of belief in conspiracy theory ( i .\\n Among these test , only one test be significant for this threshold , namely the positive linear relationship between the desire to not always follow rule and belief in conspiracy theory , r ( 206 ) = .\\n Theoretically , this effect be consistent with the stereotypical picture of the “ out from the crowd ” believer in conspiracy theory .\\n To test this hypothesis , after prim need for uniqueness , we measure belief in a ( potentially ) newly form conspiracy theory ( see Bost & Prunier , 2013 ; van Prooijen & Jostmann , 2013 ; van Prooijen & van Dijk , 2014 , for similar procedure ) .\\n This bogus newspaper article be sufficiently ambiguous to enable participant to believe it could be the result of a conspiracy .\\n The article be design such that it could potentially raise suspicion about a conspiracy ( e .\\n Belief in a Conspiracy TheoryOur main hypothesis be that the manipulation of need for uniqueness should induce a high level of adherence to a conspiracy theory in the individuality condition than in the conformity condition .\\n Although the effect find in this study be only marginal , it suggest that the tendency to believe in a conspiracy can be influence by the need for uniqueness .\\n Belief in a Conspiracy TheoryHowever , another independent sample t-test on the belief in a conspiracy theory measure confirm our prediction that participant in the “ different be well ” condition have a high level of conspiracy belief ( M = 5 .\\n We again find that participant in the need for uniqueness condition have marginally high level of belief in the conspiracy theory .\\n General DiscussionThe purpose of this paper be to empirically test the proposition that conspiracy belief can serve a a mean to satisfy people ’ s need for uniqueness .\\n In Study 2 , we use a correlational design to demonstrate that participant with high need for uniqueness believe more in conspiracy theory .\\n Our finding can also be connect to recent research demonstrating that individual narcissism , or a grandiose idea of the self , be positively relate to belief in conspiracy theory ( Cichocka et al .',\n",
       "  \"Investigating the most convincing COVID-19 conspiracy theory .\\n Feature from King 's College London In this blog , originally publish on Inspire the Mind on June 17 2020 , Anna McLaughlin , Clinical Neuroscience PhD student at Kings College London , explore current conspiracy theory around COVID-19 .\\n Lets take a look at the flawed science underlie conspiracy theory and who be behind them .\\n It be also important that people be make aware that some of the conspiracy theory be push into the mainstream medium be often back by hidden agent with ulterior motif .\\n The hysteria generate by many of these conspiracy detracts from very real issue such a how COVID-19 disproportionately affect BAME ethnicity , exacerbate inequality , and be associate with air pollution .\\n In this blog , I address the flawed science underlie some of the most famous COVID-19 conspiracy theory , cover everything from the rumour about the pandemic be create in China or plan by Bill Gates , to it association with 5G and the hype around hydroxychloroquine .\\n The first misunderstanding , which lead to the emergence of several different conspiracy theory , be quite a fundamental one .\\n So why do some people still prefer to get wrap up in conspiracy theory ? .\\n Professor Colin Klein , who study conspiracy theory , offer the explanation that conspiracy theory offer an `` emotionally satisfying narrative , even if it not a true narrative `` .\",\n",
       "  \"HomepageAccessibility linksSkip to contentAccessibility Help BBC AccountNotifications SearchSearch the BBCSearch the BBCSearch BBCSearch BBC LoadingCovid-19What we can learn from conspiracy theoriesShare use EmailShare on TwitterShare on FacebookShare on Linkedin ( Image credit .\\n EPA ) By Zaria Gorvett25th May 2020From political upheaval to anxiety about sex , technology and woman , it turn out conspiracy theory can tell u a lot about what ’ s go on in our society .\\n The infamous poisoning of 331 BC be think to be a conspiracy theory , to explain death that have an obvious cause all along .\\n Alamy ) From alien lizard ruler to shark attack instigate by spy and elaborate multi-billion-dollar hoax , the menagerie of conspiracy theory in existence be so bizarre , the reason some take off .\\n There ’ s even a conspiracy theory about how conspiracy theory be invent ( in keep with the standard conspiracy formula , the CIA be allegedly involve ) .\\n The late thinking suggest that conspiracy theory be filter by a kind of natural selection , which allow those that fit certain requirement to spread rapidly through our society .\\n What make a conspiracy appeal to the mass ? .\\n successful conspiracy always have the right villain .\\n and successful conspiracy theory generally tap into them .\\n This can lead them to fuel our collective belief in conspiracy theory .\\n “ There ’ s some evidence that people be attract to conspiracy theory that satisfy these prejudice attitude .\\n ” By emphasise the distinction between “ ingroup ” and “ outgroups ” , conspiracy theory may also lead to strong social bond .\\n Alamy ) Uncertainty “ There be some research to suggest people turn to conspiracy theory more when they 're confront with crisis situation , ” say Douglas .\\n Another reason the 5G conspiracy might be more appeal than the truth be that it ’ s a story .\\n As politics become more polarised , some expert think that it become easy for conspiracy theory to take hold ( Credit .\\n ” He explain that normally conspiracy theory would start with a kernel of truth .\",\n",
       "  'Now , the FBI say conspiracy theory very likely inspire domestic terrorist to commit criminal and sometimes violent act and very likely will emerge , spread and evolve on internet platform , accord to an intelligence bulletin obtain by Yahoo News .\\n The May 30 document from the FBIs Phoenix field officethe first of it kind to examine the threat of conspiracy-driven extremistsalso say the 2020 presidential election will likely fuel conspiracy theory , potentially motivate domestic extremist who subscribe to them .\\n , who have publish several study on conspiracy theory .\\n populationbelieve in conspiracy theory .\\n Since researcher have not track these trend over time , it difficult to determine whether the number of people who believe in conspiracy theory have rise over the year .\\n “ The problem with condemn conspiracy theory be that it play into the conspiracy theorist ’ s mind .',\n",
       "  'The conspiracy theorist be win Is the line between excessive doubt and excessive belief a distinction without a difference ? .\\n I don ’ t think so , because it help inform how to bring a conspiracy theorist back to reality .\\n One should ask calm question , invite the conspiracy theorist to explain and reflect on his belief , rather than advance evidence or quote the expert .\\n The evidence and the expert , remember , be exactly what the conspiracy theorist have already reject .',\n",
       "  'Adam Waltz/ABC15 Arizona In the first few month of 2020 , wild conspiracy theory about Bill Gates and the new coronavirus begin sprout online .\\n The idea reach Roger Stone — a former adviser to US President Donald Trump — who in April discuss the theory on a radio show , add that he ’ d never trust a coronavirus vaccine that Gates have fund .\\n Coronavirus misinformation need researcher to respond The Gates conspiracy theory be part of an ocean of misinformation on COVID-19 that be spread online .\\n ( The actual figure be high , but that be as many a Twitter will allow the team to track .',\n",
       "  \"Is this a conspiracy theory ? .\\n The link to antisemitism Prebunking and debunk conspiracy theory How to talk to somebody who firmly believe in conspiracy theory Conspiracy theory .\\n The link to COVID-19 Concrete counter action against conspiracy theory How can journalist report on conspiracy theory ? .\\n Documents The coronavirus pandemic have see a rise in harmful and misleading conspiracy theory , mostly spread online .\\n To address this trend , the European Commission and UNESCO be publicise a set of ten educational infographics help citizen identify , debunk and counter conspiracy theory .\\n the COVID-19 pandemic have see a rise in harmful and misleading conspiracy theory .\\n ‘ Evidence ’ that seem to support the conspiracy theory .\\n Once they have take root , conspiracy theory can grow quickly .\\n They be hard to refute because any person who try be see a be part of the conspiracy .\\n The first step to prevent conspiracy theory be to know that they exist .\\n Is this a conspiracy theory ? .\\n The author do not shy away from explore complexity , include different perspective The author be prepare to acknowledge limit to their knowledge The tone be objective , factual The author present their information a the only valid truth The author raise question instead of provide answer The author demonise whoever they assume be behind the allege secret plot The tone be subjective , emotionally charge Emotional image or anecdote be use to illustrate the message What be a real conspiracy ? .\\n Prebunking and debunk conspiracy theory Stopping the spread of conspiracy theory be challenge .\\n People who firmly believe in conspiracy theory be extremely difficult to reach .\\n Low exposure to conspiracy theory PREBUNKING .\\n Warn people early on that conspiracy theory exist .\\n High exposure to conspiracy theory DEBUNKING .\\n the author , source or logic behind the conspiracy theory .\\n DON'Ts Do n't focus on the conspiracy theory first .\\n When talk to somebody who firmly believe in a conspiracy theory be aware that .\\n Any argument challenge the conspiracy theory may be take a proof that you be part of the conspiracy and reinforce the belief .\\n They probably believe in more than one conspiracy theory .\\n Be careful , conspiracy theory be deceptive .\\n Concrete counter action against conspiracy theory If you be certain you have identify a conspiracy theory , react rather than ignore .\\n How can journalist report on conspiracy theory ? .\",\n",
       "  'Once , when Immanuel appear on a TV news segment , Eleanor ’ s father and stepmother begin cheer , a though they be at a political rally instead of at home watch a far-right conspiracy theorist .\\n ” Eleanor ’ s story of a family member ’ s surprising , sudden embrace of conspiracy theory echo countless others that have emerge in recent year , hand in hand with America ’ s ever more divergent ideological spectrum .\\n The era of Donald Trump ’ s presidency alone have see numerous unfounded conspiracy theory enter the mainstream , from increase number of anti-vaxxers fuel measles outbreak to Pizzagate — the conspiracy theory that emerge shortly before the 2016 election and allege that politician be run a child-trafficking ring — to numerous Covid-19 hoax .\\n There ’ s no hard evidence that conspiracy theory be circulate more widely today than ever before .\\n Meanwhile , the headline-grabbing QAnon , a conspiracy theory that evolve from Pizzagate and posit that Trump have be work in secret to capture high-powered figure who be engage in child abduction and trafficking , be still a niche belief .\\n As 2020 enter the home stretch , new conspiracy theory seem to keep come up .\\n “ We ’ re nine month into the pandemic , ” say Ben Radford , a folklorist , psychologist , and fellow with the Center for Inquiry whose research interest include contemporary conspiracy and hoax .\\n And some people will channel that uncertainty into conspiracy theory .\\n ” But how do we get to a place where previously science-minded and logic-loving dad can find conspiracy theory with ease , and where once-fringe paranoia be now embed in our country ’ s politics ? .\\n Sociopolitical turbulence tend to generate conspiracy The history of conspiracy theory be somewhat short , relative to human evolution .\\n ” Some conspiracy theory terminology Conspiracy .\\n The belief or argument that a conspiracy exist .\\n A person who believe a conspiracy plot exist or be take place .\\n A mindset that make someone susceptible to believe in conspiracy theory .\\n A mindset that permit acceptance of multiple conspiracy theory or the belief that the world be run by one vast conspiracy .\\n MPI/Getty Images For people who want a sense of order , conspiracy theory may provide a belief framework — even if it ’ s a negative one .\\n But in the United States , conspiracy theory have much more power than these tale do .\\n The conspiracy theory can be a political weapon , thanks to what historian Richard J .\\n Jabin Botsford/The Washington Post via Getty Images For those who be already unorthodox thinker , the conspiracy theory offer a form of validation .\\n ” Believing in a conspiracy theory doesn ’ t make someone unintelligent , ignorant , or evil .\\n But if some conspiracy theory be now be consider form of violent extremism , that indicate how different today ’ s conspiracy theory be from the traditional UFO or JFK variety .\\n Believing in a conspiracy theory doesn ’ t make someone unintelligent , ignorant , or evil .\\n A key to recognize the lie behind a conspiracy , van der Linden say , be to note that the tactic of spread a conspiracy theory stay the same even if the specific of the theory change .\\n Left unchallenged , a conspiracy theory can create a shift in people ’ s view .\\n “ And that ’ s exposure to a conspiracy among people who don ’ t believe in conspiracy , ” he tell me .',\n",
       "  \"A car with a flag endorse the QAnon conspiracy theory drive by a supporter of President Trump gather for a rally outside the Governor 's Residence in St .\\n Stephen Maturen/Getty Images A significant number of Americans believe misinformation about the origin of the coronavirus and the recent presidential election , as well a conspiracy theory like QAnon , accord to a new NPR/Ipsos poll .\\n The poll result add to mount evidence that misinformation be gain a foothold in American society and that conspiracy theory be go mainstream , especially during the coronavirus pandemic .\",\n",
       "  'mock conspiracy theory ( and there be a lot of them around at the moment ) be tempting , but it doesn ’ t work .\\n Consider these six prevalent conspiracy theory .\\n Now , for many conspiracy theorist , most of mankind ’ s trouble can be lay at their door .\\n The QAnon conspiracy theory be all base on the cryptic post of an anonymous internet poster ( probably more than one poster ) who claim to be a high-level US government official .\\n Many of the Capitol rioter believe in the QAnon conspiracy .\\n Once people fall down the conspiracy theory rabbit hole , everything be connect and anything be possible .\\n This conspiracy theory might seem harmless , but it indicate a detachment from verifiable reality that can lead someone to believe anything .\\n * * * * * In late 2010 I go to a pub in Drogheda to listen to the late UK conspiracy theorist Ian R Crane talk to 75 people about how the US government orchestrate 9/11 at the behest of a great plan to microchip the world population and create a one-world government .\\n The support act be Jim Corr , a musician turn conspiracy theorist .\\n It occur to me then that what conspiracy theorists really believe in be an emotional truth about an evil other that wasn ’ t affect much by something a messy a specific fact .\\n The first section at the bottom include actual conspiracy that have be prove true ( such a the CIA experiment with drug know a MKUltra ) ; the next , through the “ speculation line ” , feature area where there be gap in public knowledge ( such a the death of Jeffrey Epstein ) .\\n “ And if you believe in one conspiracy theory , it ’ s a lot easy to believe in more than one .\\n And if that mean that you don ’ t talk about the conspiracy theory at all [ that ’ s okay ] .',\n",
       "  '“ Make no mistake , this election be steal from you , from me , and from the country ” But the idea that the election be rig be , by definition , a conspiracy theory—an explanation for event that rely on the assertion that powerful people be dishonestly manipulate society .\\n Even Senate Majority Leader Mitch McConnell—a Republican ally of Trump through much of his presidency—recently call some of Trump ’ s voter fraud claim “ sweep conspiracy theory .\\n During time of turmoil , the explanation provide by conspiracy theory and other falsehood can be even more appealing—though not impossible to discourage or resist .\\n The allure of conspiracy in a chaotic world People use cognitive shortcuts—largely unconscious rules-of-thumb to make decision faster—to determine what they should believe .\\n And people experience anxiety or a sense of disorder , those who crave cognitive closure , may be even more reliant on those cognitive shortcut to make sense of the world , say Marta Marchlewska , a social and political psychologist who study conspiracy theory at the Polish Academy of Sciences .\\n Many of the conspiracy theory circulate today seek to explain the pandemic itself .',\n",
       "  \"Why people believe in conspiracy theory , with Karen Douglas , PhD APA apologize to community of color for longstanding contribution to systemic racism .\\n Why people believe in conspiracy theory , with Karen Douglas , PhD Episode 124 — Why people believe in conspiracy theory , with Karen Douglas , PhD This past year , COVID-19 and the U .\\n election have provide fertile ground for conspiracy theories—with sometimes disastrous consequence .\\n Karen Douglas , PhD , of the University of Kent in the United Kingdom , discuss psychological research on how conspiracy theory start , why they persist , who be most likely to believe them and whether there be any way to combat them effectively .\\n Her research focus be on belief in conspiracy theory and their consequence .\\n Over the past year a COVID-19 rocket around the world , conspiracy theory quickly follow .\\n Last spring , dozen of cell phone tower be set a flame across Europe , amid conspiracy theory that the 5G tower be spread COVID-19 .\\n In January , a Wisconsin pharmacist be charge with deliberately destroy hundred of do of the newly available COVID 19 vaccine because he believe a conspiracy theory that the vaccine would change human DNA .\\n These be n't the only conspiracy theory make inroad right now .\\n A September Pew Research Center survey find that more than half of Americans have hear at least a little about QAnon , the complicated web of pro-Trump conspiracy theory that originate on the message board 4chan .\\n So how do conspiracy theory like these get start and why do they persist ? .\\n Is there any way to combat conspiracy theory once they 're out there ? .\\n Douglas have spend more than a decade study conspiracy theory , and she join u to talk about their history , cause , and consequence .\\n What count a a conspiracy theory ? .\\n I give a few example in the introduction , but how do you define conspiracy theory in your research ? .\\n Well , a conspiracy theory can normally be define a a propose plot carry out in secret , usually by a powerful group of people who have some kind of sinister goal .\\n Believing in conspiracy theory and be suspicious about the action of others be in some way quite an adaptive thing to do .\\n And in term of how we measure the extent to which people believe in conspiracy theory , you can do this in a variety of different way .\\n And a a social psychologist now , we would normally measure a belief in conspiracy theory by simply ask people question about the extent to which they endorse a particular idea or the extent to which they believe a particular statement be true .\\n And another way to tap into what some would argue be an underlying tendency to just believe conspiracy theory more generally .\\n And I guess time will tell if conspiracy theory have I guess , be on the rise in this particular point in time compare to time in the past or time in the future .\\n So it 's really difficult to tell , but it do make sense to me that there would have be particular period in history that conspiracy theory would have be more prominent .\\n Let 's talk a little bit about the psychological factor that motivate people to believe in conspiracy theory .\\n And some psychological evidence suggest that people be draw to conspiracy theory when they do feel uncertain either in specific situation or more generally .\\n And there be other epistemic reason why people believe in conspiracy theory as well in relation to this sort of need for knowledge and certainty .\\n And so reach to conspiracy theory might , I guess , at least allow people to feel that they have information that at least explains why they do n't have any control over this situation .\\n But yes , narcissism at an individual level have be associate in quite a few study now with belief in conspiracy theory .\\n So yes , narcissism be one of those individual difference , variable that correlate with belief in conspiracy theory .\\n Do you see any association between those and tendency to believe in conspiracy theory ? .\\n Another of your study find that people who believe in one conspiracy theory be more likely to believe in others , even when those theory directly contradict each other .\\n Obviously we kind of , I guess , start from the point that in the literature it 's often be find that if people believe in one conspiracy theory , then they 're likely to believe in others .\\n We think people would not entertain these two conspiracy theory at the same time , but it turn out that they do , or at least they be prepare to entertain the idea that both of those thing might be true .\\n But we also measure the extent to which people believe in , I guess , an underlying conspiracy theory that something just be n't right .\\n And what we find be that some people do indeed endorse these contradictory conspiracy theory , or again , at least be likely to entertain those two idea at the same time .\\n It 's very true that some conspiracy theory stand the test of time and others just disappear .\\n I think that there must be certain feature of conspiracy theory , the one that last and the one that do n't .\\n Is there any way to effectively debunk a conspiracy theory once it 's out there ? .\\n How do you address conspiracy theory ? .\\n So , be there a way for people to balance this awareness with a healthy skepticism of conspiracy theory ? .\\n So , what aspects of conspiracy theory be you look at today ? .\\n I 'm really interested in , I guess , the deliberate use of conspiracy theory a a political device .\\n So , I 've be do some research , I guess , look at how people perceive others who seem to use conspiracy theory , and whether or not they see those action a intentional or deliberate , and also what the effect be of that .\\n I 've also be interested in the term conspiracy theory itself and the term conspiracy theorist and how people use those term , whether they use them to , I guess , specifically put down other people 's idea , or if they simply use these term when they just do n't believe .\",\n",
       "  'David5 , Nathalie Pignard-Cheynel6 , Sbastien Salerno7 and Melissa Gnreux8 1Centre for Sociological Research , KU Leuven , Leuven , Belgium 2Department of Technology and Society Studies , Faculty of Arts and Social Sciences , Maastricht University , Maastricht , Netherlands 3Institute for Media Studies , KU Leuven , Leuven , Belgium 4Institut Langage et Communication , Universit catholique de Louvain , Louvain-la-Neuve , Belgium 5Dpartement de Communication , Facult des Lettres et Sciences Humaines , Universit de Sherbrooke , Sherbrooke , QC , Canada 6Universit de Neuchtel , Acadmie du Journalisme et de Mdias , Neuchtel , Switzerland 7Medi @ Lab , Universit de Genve , Genve , Switzerland 8Department of Community Health Sciences , Faculty of Medicine and Health Sciences , Universit de Sherbrooke , Sherbrooke , QC , Canada While COVID-19 spread aggressively and rapidly across the globe , many society have also witness the spread of other viral phenomenon like misinformation , conspiracy theory , and general mass suspicion about what be really go on .\\n This study investigate how exposure to and trust in information source , and anxiety and depression , be associate with conspiracy and misinformation belief in eight countries/regions ( Belgium , Canada , England , Philippines , Hong Kong , New Zealand , United States , Switzerland ) during the COVID-19 pandemic .\\n Results indicate that great exposure to traditional medium ( television , radio , newspaper ) be associate with low conspiracy and misinformation belief , while exposure to politician and digital medium and personal contact be associate with great conspiracy and misinformation belief .\\n Exposure to health expert be associate with low conspiracy belief only .\\n Higher feeling of depression be also associate with great conspiracy and misinformation belief .\\n Introduction While the SARS-CoV-2 virusresponsible for cause the COVID-19 diseasespreads aggressively and rapidly across the globe , many society have also witness the spread of other seemingly viral phenomenon such a fake news , conspiracy theory , and general mass suspicion about what be really go on .\\n Some of the most prevailing narrative be the one claim that the virus be cause by 5G cellular technology ( Vincent , 2020 ) or that Bill Gates use the virus to enslave humanity by enforce a global vaccination and surveillance program ( Shahsavari et al .\\n Even though most of these story be quickly debunk and prove untrue , the pervasiveness of misinformation and conspiracy theory on social medium and in the news cycle have lead the Director-General of the World Health Organization ( WHO ) to warn that Were not just fight an epidemic ; be fight an infodemic .\\n As a result , narrative of conspiracy theory and misinformation spread quickly ( Venturini , 2019 ; Gallotti et al .\\n , 2020 ) , a rumor , conspiracy theory , and alternative truth tend to thrive in environment of high fear , low confidence , and low trust ( Shahsavari et al .\\n This be where narrative and the sense-making function of conspiracy theory come into play .\\n Measures Belief in Conspiracy Theories and Misinformation We develop two index regard belief in conspiracy theory ( e .\\n Analytic Plan As mention above , we develop two measure regard belief in conspiracy theory ; one with three item and another with six item .\\n Although this corroborate previous finding ( van Prooijen , 2017 ) , our result indicate that misinformation and conspiracy theory be indeed similar , but substantially different , misinformation phenomenon , particularly in term of an individual susceptibility to these belief .\\n Partisanship , individual difference , and news medium exposure a predictor of conspiracy belief .\\n Intolerance of uncertainty and worldview explanation for belief in conspiracy theory .\\n Beliefs in conspiracy theory follow ostracism .\\n Putting the stress on conspiracy theory .\\n Examining association between psychological stress , anxiety , and belief in conspiracy theory .',\n",
       "  'Welcome to the paranoid , topsy-turvy world of the conspiracy theory .\\n Think of any major world event and there be almost certainly at least one conspiracy theory to explain it .\\n the word be use in it colloquial sense rather than the strict scientific one , they should really be call “ conspiracy hypotheses ” .\\n It be easy to dismiss conspiracy theory a unhinged belief hold by a small number of paranoid idiot , but that seriously underestimate them .\\n One reason , say psychologist , be that it be perfectly reasonable , because conspiracy sometimes happen .\\n No amount of counter-evidence can refute them , and in fact this evidence often reinforce them because it can be dismiss a part of the conspiracy .\\n In this respect conspiracy theory have much in common with pseudoscience , which superficially resemble science but lack it crucial epistemological feature , falsifiability .',\n",
       "  'Share on Pinterest 10 ’ 000 Hours / Getty Images It may seem like you ’ ve be inundate with conspiracy theory lately .\\n A May 2020 online survey of 2,501 adult in England find that 25 percent of respondent believe unproven COVID-19 conspiracy theory .\\n The truth be , conspiracy theory be nothing new .\\n But a we saw with the riot on Capitol Hill on January 6 , conspiracy theory aren ’ t just unproven ( or disproven ) idea .\\n Allowing conspiracy to circulate can have deadly consequence .\\n Experts urge u to take a step back and consider why people believe conspiracy theory and to examine our own vulnerability , particularly during uncertain time .\\n “ When people feel threaten and out of control , it ’ s natural to want to feel more control and bring order to the randomness by resort to conspiracy theory , ” say John Cook , PhD , founder of the website Skeptical Science and co-author of “ The Conspiracy Theory Handbook .\\n ” That doesn ’ t mean we should enable conspiracy theory to continue or that people who break the law in the name of these theory shouldn ’ t face consequence .\\n Why do people believe conspiracy theory ? .\\n They believe they benefit from the conspiracy theory Do you ever want something to be true so badly ? .\\n Other way to handle conspiracy theory in your life Times be uncertain , make the world ripe for the spread of conspiracy theory .',\n",
       "  'Soon after , another conspiracy theory take hold .\\n But a Pew Research Center survey of US adult find that 36 % think these conspiracy theory be probably or definitely true .\\n So how do you talk to a person who believe a conspiracy theory ? .\\n We ask some of it most active user , as well a some conspiracy theory researcher , for their tip .\\n It ’ s very human and normal to believe in conspiracy theory .\\n “ Conspiracy theory resonate with u all , to some extent , ” say Rob Brotherton , a psychologist who ’ s write two book on conspiracy theory and fake news .\\n No one be above conspiracy theories—not even you .\\n ” Social distance make conspiracy theory more appealing .\\n ” A kernel of truth , stuff in a conspiracy theory .\\n ” It ’ s repetitive , but it reinforce fact and point out where the conspiracy theory doesn ’ t work .\\n You win ’ t debunk a conspiracy theory but lay the path for someone in the future to do so .',\n",
       "  'The idea have be debunk numerous time , whereas there be good evidence that conspiracy theorist such a David Icke be themselves reap huge profit from spread misinformation .\\n The conspiracy theorist David Icke at an anti-lockdown protest in Birmingham last month .\\n Christopher Furlong/GettySince many conspiracy theory arise from feel of uncertainty and fear , an angry debate will only cement the idea , and open ridicule be even less constructive ( see panel , below ) .\\n Fortunately , the exponent of these conspiracy theory often use the same rhetorical device , and a familiarity with these argument will help you to politely articulate the faulty reason behind many different form of misinformation .\\n a tactic that be commonly use in many conspiracy theory .\\n Fake authorityIf they can ’ t present any solid scientific evidence , conspiracy theorist may name impressive-sounding witness who apparently endorse their worldview .\\n While there may be a nuanced debate over the most effective way to prevent that scenario , these kind of false analogy be use to completely dismiss the need to prevent contagion , allow the conspiracy theorist to assign a more sinister intent for any new measure .',\n",
       "  'And those two word be “ conspiracy theory .\\n ” From CrowdStrike to speculation about Jeffrey Epstein ’ s death , conspiracy theory have become central talk point in American politics and culture or at least that ’ s how it feel on the internet .\\n It ’ s common for people to believe in conspiracy theory .\\n So common that recent work suggest everyone believe in at least one conspiracy theory .\\n “ Journalists be say that ‘ now be the time of conspiracy theory .\\n ’ But they ’ ve say that almost every year since the 1960s , ” say Joe Uscinski , a political scientist at the University of Miami who study the origin and behavior associate with conspiracy theory .\\n Aside from spike in the 1890s due to distrust in rise industrialization and during the Red Scare in the 1950s , public belief in conspiracy theory remain stable .\\n “ Based on the research that Ive do and that other psychologist have do , conspiracy think seem to be a fairly stable predisposition , ” say Robert Brotherton , a psychologist and lecturer at Barnard College , who study conspiracy theory .\\n He and other cognitive scientist describe be conspiracy mind or conspiracism to be like any other personality trait , with some people more predisposed and others less so .\\n It ’ s not a change that originate from our own susceptibility to conspiracy theory , but appear to be the news medium ’ s grow attention on them , a exemplify by this passage from Uscinski ’ s 2018 book “ Conspiracy Theories and the People Who Believe Them ” .\\n Yet the news medium ’ s fascination with conspiracy theory and it regular attempt at debunk them through fact checking may reinforce misplace belief and perpetuate public trust in conspiracy theory .\\n But do correctly , debunk can combat people ’ s faith in false conspiracy theory .\\n Defining the conspiracy theory People even smart and savvy one mix up conspiracy theory , falsehood and myth .\\n A conspiracy and by extension a conspiracy theory must involve a group of people conduct secret deed that disadvantage or infringe on the right of others .\\n The central component of conspiracy theory the difference between them and real conspiracy be proof .\\n This may be hard to fathom , but conspiracy theory be essential to a well-functioning society .\\n Many of those event start a conspiracy theory until their underlying evidence be discover and make public .\\n The problem be not that these conspiracy theory exist , but rather that people blindly trust that these assertion be true without evidence .\\n Those six element base rate , emotion , consistency , proportionality bias , intentionality bias and pattern search help explain why people believe in conspiracy theory .\\n If the backfire effect exist , then people might forget or ignore the context of a fact check and be leave with a strong belief in a conspiracy theory .',\n",
       "  'The others soon chip in with their thought on the US president ’ s fondness for conspiracy theory .\\n The chatter quickly turn to other conspiracy and I enjoy eavesdrop while the group brutally mock flat Earthers , chemtrails meme and Gwyneth Paltrow ’ s late idea .\\n One of the reason why conspiracy theory spring up with such regularity be due to our desire to impose structure on the world and incredible ability to recognise pattern .\\n Indeed , a recent study show a correlation between an individual ’ s need for structure and tendency to believe in a conspiracy theory .\\n Peer pressure Another reason we be so keen to believe in conspiracy theory be that we be social animal and our status in that society be much more important ( from an evolutionary standpoint ) than be right .\\n Make friend So if you can ’ t rely on the fact how do you get people to bin their conspiracy theory or other irrational idea ? .',\n",
       "  'How Physicians Can Deal With Patients ’ Misinformation Jennifer Abbasi The US public health response to coronavirus disease 2019 ( COVID-19 ) have be dismal , characterize by antimask behavior , antivaccine belief , conspiracy theory about the origin of COVID-19 , and vocal support by elect official for unproven therapy .\\n In a study that include 9654 US adult , 48 % of those who have a high school education or less believe there be some truth to the conspiracy theory that COVID-19 be plan but only 15 % among those with some postgraduate training endorse this idea .\\n 4 How do low science literacy cause otherwise rational and competent people to misunderstand the threat of COVID-19 and allow them to feel more comfortable with false data than with scientifically sound information ? .\\n While we can argue the merit of analogy or comparison , we should be able to understand how to begin a conversation with denier or believer in conspiracy theory .',\n",
       "  'Joes BooksOSS PressEvents Belief in a grand conspiracy theory can strain a relationship .\\n This be the analogy that Mike Kropveld , the director of Info-Cult in Montreal , use in an interview with Radio-Canada when discus deeply root belief in grand conspiracy theory .\\n Being tell your favourite conspiracy theory be dumb , dangerous and nonsensical be unlikely to bring you to your sen .\\n Besides , break up with a conspiracy theory be , well , heartbreaking .\\n Not everyone who disagree with u about the outside world be a conspiracy theorist .\\n ” Ultimately , though , you be unlikely to single-handedly turn someone away from a grand conspiracy theory .',\n",
       "  \"Jump to search Explanation that invoke a conspiracy For other u , see Conspiracy theory ( disambiguation ) .\\n For a list of conspiracy theory , see List of conspiracy theory .\\n The Eye of Providence , or the all-seeing eye of God , see here on the US $ 1 bill , have be take by some to be evidence of a conspiracy involve the founder of the United States and the Illuminati .\\n 49 A conspiracy theory be an explanation for an event or situation that invoke a conspiracy by sinister and powerful group , often political in motivation,345 when other explanation be more probable .\\n 367 The term have a negative connotation , imply that the appeal to a conspiracy be base on prejudice or insufficient evidence .\\n 8 A conspiracy theory be not the same a a conspiracy ; instead , it refer to a hypothesize conspiracy with specific characteristic , such a an opposition to the mainstream consensus among those people ( such a scientist or historian ) who be qualify to evaluate it accuracy .\\n both evidence against the conspiracy and an absence of evidence for it be re-interpreted a evidence of it truth,812 whereby the conspiracy become a matter of faith rather than something that can be prove or disproven .\\n 113 Some researcher suggest that conspiracist ideation—belief in conspiracy theories—may be psychologically harmful or pathological1415 and that it be correlate with low analytical thinking , low intelligence , psychological projection , paranoia , and Machiavellianism .\\n 16 Psychologists usually attribute belief in conspiracy theory and find a conspiracy where there be none to a number of psychopathological condition such a paranoia , schizotypy , narcissism , and insecure attachment,9 or to a form of cognitive bias call `` illusory pattern perception `` .\\n 1718 However , the current scientific consensus hold that most conspiracy theorist be not pathological , precisely because their belief ultimately rely on cognitive tendency that be neurologically hardwired in the human specie and probably have deep evolutionary origin , include natural inclination towards anxiety and agency detection .\\n 9 Historically , conspiracy theory have be closely link to prejudice , propaganda , witch hunt , war , and genocide .\\n 23 AIDS denialism by the government of South Africa , motivate by conspiracy theory , cause an estimated 330 .\\n 000 death from AIDS,242526 QAnon and denialism about the 2020 United States presidential election result lead to the 2021 storming of the United States Capitol,272829 while belief in conspiracy theory about genetically modify food lead the government of Zambia to reject food aid during a famine,20 at a time when 3 million people in the country be suffer from hunger .\\n 20243132 Other effect of conspiracy theory include reduce trust in scientific evidence,2033 radicalization and ideological reinforcement of extremist groups,1934 and negative consequence for the economy .\\n List of conspiracy theory A conspiracy theory may take any matter a it subject , but certain subject attract great interest than others .\\n 35363738 The general predisposition to believe conspiracy theory cut across partisan and ideological line .\\n 394041 A broad cross-section of Americans today give credence to at least some conspiracy theory .\\n a The use of the word 'knowledge ' here suggest way in which conspiracy theory may be consider in relation to legitimate mode of knowing .\\n b The relationship between legitimate and illegitimate knowledge , Birchall claim , be close than common dismissal of conspiracy theory contend .\\n 75 There be also attempt to analyze the theory of conspiracy theory ( conspiracy theory theory ) to ensure that the term `` conspiracy theory `` be use to refer to narrative that have be debunk by expert , rather than a a generalized dismissal .\\n These proponent may not necessarily believe the conspiracy theory , instead use it in an attempt to gain public approval .\\n For example , conspiracy theory be often dependent on eyewitness testimony , despite it unreliability , while disregard objective analysis of the evidence .\\n both evidence against the conspiracy and an absence of evidence for it be re-interpreted a evidence of it truth,812 whereby the conspiracy become a matter of faith rather than something that can be prove or disprove .\\n Responses be then assess use a double standard , where fail to provide an immediate response to the satisfaction of the conspiracy theorist will be claim to prove a conspiracy .\\n 19 More generally , belief in conspiracy theory be associate with hold extreme and uncompromising viewpoint , and may help people in maintain those viewpoint .\\n For example , since conspiracy theory can reinterpret disconfirming information a part of their narrative , refute a claim can result in accidentally reinforce it .\",\n",
       "  'Research have yet to identify a culture that do not hold some sort of conspiracy belief .\\n Understanding Conspiracy Theories Social scientist have come to a consensus about what exactly constitute a conspiracy theory .\\n A look at the key element of a conspiracy theory help shed light on why the era of social medium , increase news consumption , and the confusion that come along with the COVID-19 pandemic create the perfect environment for conspiracy to emerge .\\n Conspiracy Theory A conspiracy theory be define a a theory that reject the standard explanation for an event and instead credit a covert group or organization with carry out a secret plot .\\n A conspiracy theorist be likely to believe that anyone who try to debunk their theory be in on it and part of the conspiracy themselves .\\n A study of the psychology of conspiracy theory break them down into five major element .\\n A group of dishonest , bad actor be work in conjunction towards a goal ( lone wolf explanation do not meet the definition of a conspiracy theory ) There be threat of harm to others from the conspirator .\\n How Conspiracy Theories Spread There be no evidence that there be currently more conspiracy theory in comparison to other time period .\\n There be just much good and more efficient mean of amplify any give conspiracy .\\n Examples of Conspiracy Theories Lets take a look at some example of prominent conspiracy theory in history .\\n A conspiracy theory provide an explanation for overwhelm event .\\n It make sense , then , that conspiracy theory be more likely when there be minimal or conflict information about a topic .\\n ” This be think to be a major appeal of conspiracy .\\n They Spread False Information A conspiracy theory be not just a harmless rumor .\\n The psychology of conspiracy theory .',\n",
       "  'Online , somebody they know and love have stumble into the treacherous world of online conspiracy theory and , in some case , might not even know it .\\n “ I would not advocate replace one conspiracy theory with another , but if these people be already wary of authority , it ’ s worth ask them question like , ‘ Whose interest do your online engagement serve ? .\\n In a recent article , Colin Dickey , an author and academic who have spend time write about conspiracy theory , argue that his first step be to acknowledge that some conspiracy do exist — Watergate , the Catholic Church ’ s sexual abuse scandal , the billionaire Jeffrey Epstein ’ s network of underage sexual abuse .\\n This , he argue , create a bit of common ground and lay the foundation to explore how unproven conspiracy theory differ from reality .\\n “ I try to show how these conspiracy play out , ” he tell me .\\n ’ I explain how , in past conspiracy , there be usually some whistle-blower or news report , and then the whole thing unravels quickly .\\n Because conspiracy theory become fused with people ’ s political and cultural identity , debate a true believer can be counterproductive .',\n",
       "  '15 , 2021 Think of a conspiracy theorist .\\n It can be easy to write off our conspiracy theorist friend and relative a crackpot , but science show thing be far more nuanced than that .\\n One study find that people with this bias be more likely to endorse conspiracy belief than people without it , and it ’ s also be find to be correlate with harbor delusion .\\n It ’ s not surprise that someone who tend to make up their mind about something after review very little evidence would be more likely to believe in a conspiracy theory .\\n Many of the study only observe a correlation — which we all know do not necessarily equal causation — between certain trait and conspiracy theory .\\n Just because people who believe conspiracy theory be also more likely to have trait X doesn ’ t mean that it ’ s trait X that ’ s make them susceptible — the two might just go together .\\n And even if there be a causal effect , that still doesn ’ t mean that everyone with trait X will subscribe to a conspiracy theory , or that everyone who doesn ’ t have trait X be immune to b .\\n » “ It ’ s all probabilistic , ” say Joshua Hart , a professor of psychology at Union College who have study the personality trait of people prone to believe conspiracy theory .\\n ” Still , this research be useful and help u establish a rich picture of who be susceptible to conspiracy theory .\\n Respondents who believe there be some kind of predetermined pattern to the coin toss sequence be more likely to believe conspiracy theory .\\n Making connection between unrelated event or symbol be a key marker of many conspiracy theory .\\n But they demonstrate that conspiracy theorist aren ’ t just loony — many of the trait that can set someone up to believe wild idea be thing all of u be prone to , to some degree .\\n JOEY ELLISCognitive quirk only go so far in explain why people believe conspiracy theory .\\n ” This might help explain why belief in conspiracy theory be surprisingly common .\\n There ’ s a good chance you hold a belief that be a conspiracy theory .',\n",
       "  'Although vaccine hesitancy be a complex problem with multiple cause , the number of conspiracy theory circulate about the coronavirus do not help .\\n The fight against COVID-19-related conspiracy theory will be fight on multiple front .\\n Most people will know someone who have succumb to conspiracy theory about the current crisis .\\n I have be research conspiracy theory for over two decade and have speak to many believer .\\n Here be the six rule I use for talk to conspiracy theorist in the effort to change their mind .\\n When it come to conspiracy theory , the world be not divide into “ believer ” and “ sceptic ” .\\n Many others might not see themselves a “ believer ” , but be willing to accept that conspiracy theorist might be onto something and be at least ask the right question .\\n Also , try and find out what specific conspiracy theory they endorse .\\n So when talk about conspiracy theory , start by acknowledge these broad concern and restrict your discussion to whether conspiracy theory can provide an adequate or meaningful answer .\\n Many people come to conspiracy theory through genuine , albeit misguide , curiosity about how to make sense of the world .\\n The kernel of truth on which conspiracy theory be base be a solid starting point for a discussion .\\n You may want to point out that throughout history , conspiracy theory have come up short .\\n There be no incontestable argument or fail-proof strategy that will always convert a conspiracy theorist to scepticism .',\n",
       "  \"They 're call conspiracy theorist .\\n There seem to be a conspiracy be `` uncover `` all the time these day , and no matter how outlandish they may be , they seem to have no trouble draw in ardent believer .\\n Despite the prevalence and pervasiveness of conspiracy theory , the reason people be draw to them be a relatively new area of study for psychologist .\\n According to University of Chicago political science professor Eric Oliver and Thomas Wood , in any give year roughly half of Americans believe in at least one conspiracy theory .\\n President Trump himself have express a belief in at least two of the above conspiracy at one time or another .\\n Everyone 's a suspect Conspiracy theorist can be conservative , liberal or any other political stripe — male or female , rich or poor , well educate or not .\\n Among the cognitive bias Van Prooijen and other psychologist believe contribute to the appeal of conspiracy theory be .\\n Yet , there be factor that make some people more or less inclined to accept conspiracy theory .\\n But a few document remain classify , which be more than enough mystery to keep the conspiracy theory around the assassination alive .\\n `` I ’ ve learn that be there no such thing a evidence that persuade a conspiracy theorist , `` Posner say .\\n Van Prooijen also call conspiracy theory a `` form of belief .\\n `` It ’ s very easy to dismiss evidence a be part of the conspiracy , be part of the coverup .\\n So it ’ s very hard to disprove a conspiracy theory .\",\n",
       "  \"To be an American in 2020 be to live in a petri dish ideal for grow conspiracy theory .\\n Before the pandemic hit , Adam Enders , an assistant professor at the University of Louisville who research how conspiracy theory affect politics , have already note that conspiracy think be become increasingly weaponize for political purpose .\\n “ This pandemic be ripe ground for conspiracy theory , precisely because a lot of the psychological element that give rise to conspiracy theory be heighten .\\n ” Research into conspiracy theory have find no innate correlation between conspiracy thinking and left-right political orientation .\\n ” In the misinformation pandemic , conspiracy theory occupy an increasingly commonplace part of mainstream political discourse , political leader weaponize them for their partisan benefit , and neutral , trust source of information lose sway .\\n Like a virus , once a conspiracy theory start spread , it be difficult to contain .\\n “ What ’ s a trust source for somebody who be literally define by think that everyone and everything be a lie and against them and a conspiracy ? .\\n We have mass demonstration follow the killing of George Floyd in Minneapolis , and come out of them , many different conspiracy theory and misinformation .\\n Is a time like this sort of a perfect storm for conspiracy theory ? .\\n Some people be motivate to believe or spread conspiracy theory for partisan reason .\\n What do it take to be a “ conspiracy theorist ” ? .\\n To have some level of doubt about one conspiracy theory out there ? .\\n Once we think about conspiracy think on a continuum , there ’ s more nuance .\\n If we ’ re talk about general level of belief in conspiracy theory , thing probably aren ’ t that different today than the past .\\n Something be attractive about conspiracy theory that draw you to them .\\n What you ’ re describing , where it seem like there be many more blatantly partisan conspiracy theory out there — that ’ s probably true .\\n And you find that Republicans be more likely to believe a conspiracy theory when it be blame on Democrats — and I should note , the reverse be also true .\\n Democrats be more likely to believe a conspiracy theory when it be pin on Republicans .\\n Some of these conspiracy theory be not really emanate from psychological , conspiracy thinking-esque source ; they ’ re just partisan mudslinging .\\n And give his embrace of conspiracy theory before he enter politics , do that suggest that he approach conspiracy theory driven less by partisan motivate reason than by conspiracy thinking ? .\\n If they function a signal — a way to show allegiance to one side or the other , or to assert your identity — how do you go about try to correct or combat a conspiracy theory when it ’ s tie to something so personal for the person who believe in it , when it seem tie to their identity ? .\\n And at the same time , if a conspiracy theory have partisan overtone , it ’ s almost like people see a correction a have partisan overtone , too .\\n The thing be , if your own ideological identity motivate you to believe a conspiracy theory , you ’ re not necessarily an extremist , but you be a partisan , and you probably think of yourself a a liberal or conservative .\\n What ’ s a trusted source for somebody who be literally define by think that everyone and everything be a lie and against them and a conspiracy ? .\\n How do you differentiate between conspiracy theory and misinformation or disinformation ? .\\n Defining “ conspiracy theory ” be tricky .\\n Most of u that do this work , you have to sort of believe that truth exists on a continuum to even be able to cobble together a reasonable definition of “ conspiracy theory ” that do n't accidentally either encompass everything or mean nothing .\\n So , conspiracy thinking , conspiracy theory be sort of a subset of misinformation .\\n How do a conspiracy theory end ? .\\n The only way that I can think of that they truly end be that we find evidence for it , and then we just call it a conspiracy .\\n But this also point to why conspiracy theory be such interesting device .\"],\n",
       " 28,\n",
       " 28)"
      ]
     },
     "execution_count": 9,
     "metadata": {},
     "output_type": "execute_result"
    }
   ],
   "source": [
    "evidence_texts, len(evidence_texts), batch_size"
   ]
  },
  {
   "cell_type": "code",
   "execution_count": null,
   "metadata": {},
   "outputs": [
    {
     "data": {
      "application/vnd.jupyter.widget-view+json": {
       "model_id": "cd6c0840aedc478ba925d3dcfb1792de",
       "version_major": 2,
       "version_minor": 0
      },
      "text/plain": [
       "Output()"
      ]
     },
     "metadata": {},
     "output_type": "display_data"
    },
    {
     "data": {
      "text/html": [
       "<pre style=\"white-space:pre;overflow-x:auto;line-height:normal;font-family:Menlo,'DejaVu Sans Mono',consolas,'Courier New',monospace\"></pre>\n"
      ],
      "text/plain": []
     },
     "metadata": {},
     "output_type": "display_data"
    }
   ],
   "source": [
    "device = torch.device(\"cuda\" if torch.cuda.is_available() else \"cpu\")\n",
    "model = TextUMC().to(device)\n",
    "\n",
    "for i in range(0, len(evidence_texts), batch_size):\n",
    "    batch_texts = evidence_texts[i : i + batch_size]\n",
    "    embeddings = model(batch_texts)\n",
    "\n",
    "print(embeddings.detach().cpu().numpy(), embeddings.shape)  "
   ]
  },
  {
   "cell_type": "code",
   "execution_count": 5,
   "metadata": {},
   "outputs": [
    {
     "data": {
      "application/vnd.jupyter.widget-view+json": {
       "model_id": "079fcafb9dce41bcb214bd8017b17474",
       "version_major": 2,
       "version_minor": 0
      },
      "text/plain": [
       "Output()"
      ]
     },
     "metadata": {},
     "output_type": "display_data"
    },
    {
     "data": {
      "application/vnd.jupyter.widget-view+json": {
       "model_id": "4dcd8e778f8044e8bae41e651d451d20",
       "version_major": 2,
       "version_minor": 0
      },
      "text/plain": [
       "Output()"
      ]
     },
     "metadata": {},
     "output_type": "display_data"
    },
    {
     "data": {
      "text/html": [
       "<pre style=\"white-space:pre;overflow-x:auto;line-height:normal;font-family:Menlo,'DejaVu Sans Mono',consolas,'Courier New',monospace\"></pre>\n"
      ],
      "text/plain": []
     },
     "metadata": {},
     "output_type": "display_data"
    },
    {
     "data": {
      "application/vnd.jupyter.widget-view+json": {
       "model_id": "ec122840078f4535a405ca2c82a67ac9",
       "version_major": 2,
       "version_minor": 0
      },
      "text/plain": [
       "Output()"
      ]
     },
     "metadata": {},
     "output_type": "display_data"
    },
    {
     "data": {
      "text/html": [
       "<pre style=\"white-space:pre;overflow-x:auto;line-height:normal;font-family:Menlo,'DejaVu Sans Mono',consolas,'Courier New',monospace\"></pre>\n"
      ],
      "text/plain": []
     },
     "metadata": {},
     "output_type": "display_data"
    },
    {
     "data": {
      "text/html": [
       "<pre style=\"white-space:pre;overflow-x:auto;line-height:normal;font-family:Menlo,'DejaVu Sans Mono',consolas,'Courier New',monospace\"></pre>\n"
      ],
      "text/plain": []
     },
     "metadata": {},
     "output_type": "display_data"
    },
    {
     "data": {
      "text/html": [
       "<pre style=\"white-space:pre;overflow-x:auto;line-height:normal;font-family:Menlo,'DejaVu Sans Mono',consolas,'Courier New',monospace\"><span style=\"color: #800000; text-decoration-color: #800000\">╭─────────────────────────────── </span><span style=\"color: #800000; text-decoration-color: #800000; font-weight: bold\">Traceback </span><span style=\"color: #bf7f7f; text-decoration-color: #bf7f7f; font-weight: bold\">(most recent call last)</span><span style=\"color: #800000; text-decoration-color: #800000\"> ────────────────────────────────╮</span>\n",
       "<span style=\"color: #800000; text-decoration-color: #800000\">│</span> in <span style=\"color: #00ff00; text-decoration-color: #00ff00\">&lt;module&gt;</span>:<span style=\"color: #0000ff; text-decoration-color: #0000ff\">6</span>                                                                                    <span style=\"color: #800000; text-decoration-color: #800000\">│</span>\n",
       "<span style=\"color: #800000; text-decoration-color: #800000\">│</span>                                                                                                  <span style=\"color: #800000; text-decoration-color: #800000\">│</span>\n",
       "<span style=\"color: #800000; text-decoration-color: #800000\">│</span>   <span style=\"color: #7f7f7f; text-decoration-color: #7f7f7f\"> 3 </span>device = torch.device(<span style=\"color: #808000; text-decoration-color: #808000\">\"cuda\"</span> <span style=\"color: #0000ff; text-decoration-color: #0000ff\">if</span> torch.cuda.is_available() <span style=\"color: #0000ff; text-decoration-color: #0000ff\">else</span> <span style=\"color: #808000; text-decoration-color: #808000\">\"cpu\"</span>)                       <span style=\"color: #800000; text-decoration-color: #800000\">│</span>\n",
       "<span style=\"color: #800000; text-decoration-color: #800000\">│</span>   <span style=\"color: #7f7f7f; text-decoration-color: #7f7f7f\"> 4 </span>model = TextUMC().to(device)                                                                <span style=\"color: #800000; text-decoration-color: #800000\">│</span>\n",
       "<span style=\"color: #800000; text-decoration-color: #800000\">│</span>   <span style=\"color: #7f7f7f; text-decoration-color: #7f7f7f\"> 5 </span>                                                                                            <span style=\"color: #800000; text-decoration-color: #800000\">│</span>\n",
       "<span style=\"color: #800000; text-decoration-color: #800000\">│</span> <span style=\"color: #800000; text-decoration-color: #800000\">❱ </span> 6 trained_evidences, metrics = umc_train(                                                     <span style=\"color: #800000; text-decoration-color: #800000\">│</span>\n",
       "<span style=\"color: #800000; text-decoration-color: #800000\">│</span>   <span style=\"color: #7f7f7f; text-decoration-color: #7f7f7f\"> 7 </span><span style=\"color: #7f7f7f; text-decoration-color: #7f7f7f\">│   </span>model=model,                                                                            <span style=\"color: #800000; text-decoration-color: #800000\">│</span>\n",
       "<span style=\"color: #800000; text-decoration-color: #800000\">│</span>   <span style=\"color: #7f7f7f; text-decoration-color: #7f7f7f\"> 8 </span><span style=\"color: #7f7f7f; text-decoration-color: #7f7f7f\">│   </span>evidences=example_claim.evidences,                                                      <span style=\"color: #800000; text-decoration-color: #800000\">│</span>\n",
       "<span style=\"color: #800000; text-decoration-color: #800000\">│</span>   <span style=\"color: #7f7f7f; text-decoration-color: #7f7f7f\"> 9 </span><span style=\"color: #7f7f7f; text-decoration-color: #7f7f7f\">│   </span>num_clusters=<span style=\"color: #00ffff; text-decoration-color: #00ffff\">min</span>(<span style=\"color: #00ffff; text-decoration-color: #00ffff\">len</span>(example_claim.evidences), <span style=\"color: #0000ff; text-decoration-color: #0000ff\">5</span>),                                      <span style=\"color: #800000; text-decoration-color: #800000\">│</span>\n",
       "<span style=\"color: #800000; text-decoration-color: #800000\">│</span>                                                                                                  <span style=\"color: #800000; text-decoration-color: #800000\">│</span>\n",
       "<span style=\"color: #800000; text-decoration-color: #800000\">│</span> <span style=\"color: #bfbf7f; text-decoration-color: #bfbf7f\">/home/lonk/codes/thesis-test-code/TextUMC/</span><span style=\"color: #808000; text-decoration-color: #808000; font-weight: bold\">model.py</span>:<span style=\"color: #0000ff; text-decoration-color: #0000ff\">430</span> in <span style=\"color: #00ff00; text-decoration-color: #00ff00\">umc_train</span>                              <span style=\"color: #800000; text-decoration-color: #800000\">│</span>\n",
       "<span style=\"color: #800000; text-decoration-color: #800000\">│</span>                                                                                                  <span style=\"color: #800000; text-decoration-color: #800000\">│</span>\n",
       "<span style=\"color: #800000; text-decoration-color: #800000\">│</span>   <span style=\"color: #7f7f7f; text-decoration-color: #7f7f7f\">427 </span><span style=\"color: #7f7f7f; text-decoration-color: #7f7f7f\">│   │   │   </span>embeddings = model(batch_texts)                                                <span style=\"color: #800000; text-decoration-color: #800000\">│</span>\n",
       "<span style=\"color: #800000; text-decoration-color: #800000\">│</span>   <span style=\"color: #7f7f7f; text-decoration-color: #7f7f7f\">428 </span><span style=\"color: #7f7f7f; text-decoration-color: #7f7f7f\">│   │   │   </span>                                                                               <span style=\"color: #800000; text-decoration-color: #800000\">│</span>\n",
       "<span style=\"color: #800000; text-decoration-color: #800000\">│</span>   <span style=\"color: #7f7f7f; text-decoration-color: #7f7f7f\">429 </span><span style=\"color: #7f7f7f; text-decoration-color: #7f7f7f\">│   │   │   </span><span style=\"color: #7f7f7f; text-decoration-color: #7f7f7f\"># Get cluster assignments</span>                                                      <span style=\"color: #800000; text-decoration-color: #800000\">│</span>\n",
       "<span style=\"color: #800000; text-decoration-color: #800000\">│</span> <span style=\"color: #800000; text-decoration-color: #800000\">❱ </span>430 <span style=\"color: #7f7f7f; text-decoration-color: #7f7f7f\">│   │   │   </span>_, pseudo_labels, current_centroids = <span style=\"font-weight: bold; text-decoration: underline\">cluster_and_select_samples(</span>              <span style=\"color: #800000; text-decoration-color: #800000\">│</span>\n",
       "<span style=\"color: #800000; text-decoration-color: #800000\">│</span>   <span style=\"color: #7f7f7f; text-decoration-color: #7f7f7f\">431 </span><span style=\"color: #7f7f7f; text-decoration-color: #7f7f7f; font-weight: bold; text-decoration: underline\">│   │   │   │   </span><span style=\"font-weight: bold; text-decoration: underline\">embeddings, num_clusters, </span><span style=\"color: #0000ff; text-decoration-color: #0000ff; font-weight: bold; text-decoration: underline\">0.5</span><span style=\"font-weight: bold; text-decoration: underline\">, current_centroids, model.device</span>             <span style=\"color: #800000; text-decoration-color: #800000\">│</span>\n",
       "<span style=\"color: #800000; text-decoration-color: #800000\">│</span>   <span style=\"color: #7f7f7f; text-decoration-color: #7f7f7f\">432 </span><span style=\"color: #7f7f7f; text-decoration-color: #7f7f7f; font-weight: bold; text-decoration: underline\">│   │   │   </span><span style=\"font-weight: bold; text-decoration: underline\">)</span>                                                                              <span style=\"color: #800000; text-decoration-color: #800000\">│</span>\n",
       "<span style=\"color: #800000; text-decoration-color: #800000\">│</span>   <span style=\"color: #7f7f7f; text-decoration-color: #7f7f7f\">433 </span>                                                                                           <span style=\"color: #800000; text-decoration-color: #800000\">│</span>\n",
       "<span style=\"color: #800000; text-decoration-color: #800000\">│</span>                                                                                                  <span style=\"color: #800000; text-decoration-color: #800000\">│</span>\n",
       "<span style=\"color: #800000; text-decoration-color: #800000\">│</span> <span style=\"color: #bfbf7f; text-decoration-color: #bfbf7f\">/home/lonk/codes/thesis-test-code/TextUMC/</span><span style=\"color: #808000; text-decoration-color: #808000; font-weight: bold\">model.py</span>:<span style=\"color: #0000ff; text-decoration-color: #0000ff\">258</span> in <span style=\"color: #00ff00; text-decoration-color: #00ff00\">cluster_and_select_samples</span>             <span style=\"color: #800000; text-decoration-color: #800000\">│</span>\n",
       "<span style=\"color: #800000; text-decoration-color: #800000\">│</span>                                                                                                  <span style=\"color: #800000; text-decoration-color: #800000\">│</span>\n",
       "<span style=\"color: #800000; text-decoration-color: #800000\">│</span>   <span style=\"color: #7f7f7f; text-decoration-color: #7f7f7f\">255 </span><span style=\"color: #7f7f7f; text-decoration-color: #7f7f7f\">│   │   </span>n_init=<span style=\"color: #0000ff; text-decoration-color: #0000ff\">5</span>,                                                                          <span style=\"color: #800000; text-decoration-color: #800000\">│</span>\n",
       "<span style=\"color: #800000; text-decoration-color: #800000\">│</span>   <span style=\"color: #7f7f7f; text-decoration-color: #7f7f7f\">256 </span><span style=\"color: #7f7f7f; text-decoration-color: #7f7f7f\">│   │   </span>max_iter=<span style=\"color: #0000ff; text-decoration-color: #0000ff\">200</span>,                                                                      <span style=\"color: #800000; text-decoration-color: #800000\">│</span>\n",
       "<span style=\"color: #800000; text-decoration-color: #800000\">│</span>   <span style=\"color: #7f7f7f; text-decoration-color: #7f7f7f\">257 </span><span style=\"color: #7f7f7f; text-decoration-color: #7f7f7f\">│   </span>)                                                                                      <span style=\"color: #800000; text-decoration-color: #800000\">│</span>\n",
       "<span style=\"color: #800000; text-decoration-color: #800000\">│</span> <span style=\"color: #800000; text-decoration-color: #800000\">❱ </span>258 <span style=\"color: #7f7f7f; text-decoration-color: #7f7f7f\">│   </span><span style=\"font-weight: bold; text-decoration: underline\">kmeans.fit(embeddings.detach().cpu().numpy())</span>                                          <span style=\"color: #800000; text-decoration-color: #800000\">│</span>\n",
       "<span style=\"color: #800000; text-decoration-color: #800000\">│</span>   <span style=\"color: #7f7f7f; text-decoration-color: #7f7f7f\">259 </span><span style=\"color: #7f7f7f; text-decoration-color: #7f7f7f\">│   </span>cluster_labels = kmeans.labels_                                                        <span style=\"color: #800000; text-decoration-color: #800000\">│</span>\n",
       "<span style=\"color: #800000; text-decoration-color: #800000\">│</span>   <span style=\"color: #7f7f7f; text-decoration-color: #7f7f7f\">260 </span><span style=\"color: #7f7f7f; text-decoration-color: #7f7f7f\">│   </span>new_centroids = kmeans.cluster_centers_                                                <span style=\"color: #800000; text-decoration-color: #800000\">│</span>\n",
       "<span style=\"color: #800000; text-decoration-color: #800000\">│</span>   <span style=\"color: #7f7f7f; text-decoration-color: #7f7f7f\">261 </span>                                                                                           <span style=\"color: #800000; text-decoration-color: #800000\">│</span>\n",
       "<span style=\"color: #800000; text-decoration-color: #800000\">│</span>                                                                                                  <span style=\"color: #800000; text-decoration-color: #800000\">│</span>\n",
       "<span style=\"color: #800000; text-decoration-color: #800000\">│</span> <span style=\"color: #bfbf7f; text-decoration-color: #bfbf7f\">/home/lonk/micromamba/envs/thesis/lib/python3.12/site-packages/sklearn/</span><span style=\"color: #808000; text-decoration-color: #808000; font-weight: bold\">base.py</span>:<span style=\"color: #0000ff; text-decoration-color: #0000ff\">1389</span> in <span style=\"color: #00ff00; text-decoration-color: #00ff00\">wrapper</span>   <span style=\"color: #800000; text-decoration-color: #800000\">│</span>\n",
       "<span style=\"color: #800000; text-decoration-color: #800000\">│</span>                                                                                                  <span style=\"color: #800000; text-decoration-color: #800000\">│</span>\n",
       "<span style=\"color: #800000; text-decoration-color: #800000\">│</span>   <span style=\"color: #7f7f7f; text-decoration-color: #7f7f7f\">1386 </span><span style=\"color: #7f7f7f; text-decoration-color: #7f7f7f\">│   │   │   │   │   </span>prefer_skip_nested_validation <span style=\"color: #ff00ff; text-decoration-color: #ff00ff\">or</span> global_skip_validation               <span style=\"color: #800000; text-decoration-color: #800000\">│</span>\n",
       "<span style=\"color: #800000; text-decoration-color: #800000\">│</span>   <span style=\"color: #7f7f7f; text-decoration-color: #7f7f7f\">1387 </span><span style=\"color: #7f7f7f; text-decoration-color: #7f7f7f\">│   │   │   │   </span>)                                                                         <span style=\"color: #800000; text-decoration-color: #800000\">│</span>\n",
       "<span style=\"color: #800000; text-decoration-color: #800000\">│</span>   <span style=\"color: #7f7f7f; text-decoration-color: #7f7f7f\">1388 </span><span style=\"color: #7f7f7f; text-decoration-color: #7f7f7f\">│   │   │   </span>):                                                                            <span style=\"color: #800000; text-decoration-color: #800000\">│</span>\n",
       "<span style=\"color: #800000; text-decoration-color: #800000\">│</span> <span style=\"color: #800000; text-decoration-color: #800000\">❱ </span>1389 <span style=\"color: #7f7f7f; text-decoration-color: #7f7f7f\">│   │   │   │   </span><span style=\"color: #0000ff; text-decoration-color: #0000ff\">return</span> <span style=\"font-weight: bold; text-decoration: underline\">fit_method(estimator, *args, **kwargs)</span>                             <span style=\"color: #800000; text-decoration-color: #800000\">│</span>\n",
       "<span style=\"color: #800000; text-decoration-color: #800000\">│</span>   <span style=\"color: #7f7f7f; text-decoration-color: #7f7f7f\">1390 </span><span style=\"color: #7f7f7f; text-decoration-color: #7f7f7f\">│   │   </span>                                                                                  <span style=\"color: #800000; text-decoration-color: #800000\">│</span>\n",
       "<span style=\"color: #800000; text-decoration-color: #800000\">│</span>   <span style=\"color: #7f7f7f; text-decoration-color: #7f7f7f\">1391 </span><span style=\"color: #7f7f7f; text-decoration-color: #7f7f7f\">│   │   </span><span style=\"color: #0000ff; text-decoration-color: #0000ff\">return</span> wrapper                                                                    <span style=\"color: #800000; text-decoration-color: #800000\">│</span>\n",
       "<span style=\"color: #800000; text-decoration-color: #800000\">│</span>   <span style=\"color: #7f7f7f; text-decoration-color: #7f7f7f\">1392 </span>                                                                                          <span style=\"color: #800000; text-decoration-color: #800000\">│</span>\n",
       "<span style=\"color: #800000; text-decoration-color: #800000\">│</span>                                                                                                  <span style=\"color: #800000; text-decoration-color: #800000\">│</span>\n",
       "<span style=\"color: #800000; text-decoration-color: #800000\">│</span> <span style=\"color: #bfbf7f; text-decoration-color: #bfbf7f\">/home/lonk/micromamba/envs/thesis/lib/python3.12/site-packages/sklearn/cluster/</span><span style=\"color: #808000; text-decoration-color: #808000; font-weight: bold\">_kmeans.py</span>:<span style=\"color: #0000ff; text-decoration-color: #0000ff\">1446</span>   <span style=\"color: #800000; text-decoration-color: #800000\">│</span>\n",
       "<span style=\"color: #800000; text-decoration-color: #800000\">│</span> in <span style=\"color: #00ff00; text-decoration-color: #00ff00\">fit</span>                                                                                           <span style=\"color: #800000; text-decoration-color: #800000\">│</span>\n",
       "<span style=\"color: #800000; text-decoration-color: #800000\">│</span>                                                                                                  <span style=\"color: #800000; text-decoration-color: #800000\">│</span>\n",
       "<span style=\"color: #800000; text-decoration-color: #800000\">│</span>   <span style=\"color: #7f7f7f; text-decoration-color: #7f7f7f\">1443 </span><span style=\"color: #bfbf7f; text-decoration-color: #bfbf7f\">│   │   </span><span style=\"color: #808000; text-decoration-color: #808000\">self : object</span>                                                                     <span style=\"color: #800000; text-decoration-color: #800000\">│</span>\n",
       "<span style=\"color: #800000; text-decoration-color: #800000\">│</span>   <span style=\"color: #7f7f7f; text-decoration-color: #7f7f7f\">1444 </span><span style=\"color: #bfbf7f; text-decoration-color: #bfbf7f\">│   │   │   </span><span style=\"color: #808000; text-decoration-color: #808000\">Fitted estimator.</span>                                                             <span style=\"color: #800000; text-decoration-color: #800000\">│</span>\n",
       "<span style=\"color: #800000; text-decoration-color: #800000\">│</span>   <span style=\"color: #7f7f7f; text-decoration-color: #7f7f7f\">1445 </span><span style=\"color: #bfbf7f; text-decoration-color: #bfbf7f\">│   │   </span><span style=\"color: #808000; text-decoration-color: #808000\">\"\"\"</span>                                                                               <span style=\"color: #800000; text-decoration-color: #800000\">│</span>\n",
       "<span style=\"color: #800000; text-decoration-color: #800000\">│</span> <span style=\"color: #800000; text-decoration-color: #800000\">❱ </span>1446 <span style=\"color: #7f7f7f; text-decoration-color: #7f7f7f\">│   │   </span>X = validate_data(                                                                <span style=\"color: #800000; text-decoration-color: #800000\">│</span>\n",
       "<span style=\"color: #800000; text-decoration-color: #800000\">│</span>   <span style=\"color: #7f7f7f; text-decoration-color: #7f7f7f\">1447 </span><span style=\"color: #7f7f7f; text-decoration-color: #7f7f7f\">│   │   │   </span><span style=\"color: #00ffff; text-decoration-color: #00ffff\">self</span>,                                                                         <span style=\"color: #800000; text-decoration-color: #800000\">│</span>\n",
       "<span style=\"color: #800000; text-decoration-color: #800000\">│</span>   <span style=\"color: #7f7f7f; text-decoration-color: #7f7f7f\">1448 </span><span style=\"color: #7f7f7f; text-decoration-color: #7f7f7f\">│   │   │   </span>X,                                                                            <span style=\"color: #800000; text-decoration-color: #800000\">│</span>\n",
       "<span style=\"color: #800000; text-decoration-color: #800000\">│</span>   <span style=\"color: #7f7f7f; text-decoration-color: #7f7f7f\">1449 </span><span style=\"color: #7f7f7f; text-decoration-color: #7f7f7f\">│   │   │   </span>accept_sparse=<span style=\"color: #808000; text-decoration-color: #808000\">\"csr\"</span>,                                                          <span style=\"color: #800000; text-decoration-color: #800000\">│</span>\n",
       "<span style=\"color: #800000; text-decoration-color: #800000\">│</span>                                                                                                  <span style=\"color: #800000; text-decoration-color: #800000\">│</span>\n",
       "<span style=\"color: #800000; text-decoration-color: #800000\">│</span> <span style=\"color: #bfbf7f; text-decoration-color: #bfbf7f\">/home/lonk/micromamba/envs/thesis/lib/python3.12/site-packages/sklearn/utils/</span><span style=\"color: #808000; text-decoration-color: #808000; font-weight: bold\">validation.py</span>:<span style=\"color: #0000ff; text-decoration-color: #0000ff\">2944</span>  <span style=\"color: #800000; text-decoration-color: #800000\">│</span>\n",
       "<span style=\"color: #800000; text-decoration-color: #800000\">│</span> in <span style=\"color: #00ff00; text-decoration-color: #00ff00\">validate_data</span>                                                                                 <span style=\"color: #800000; text-decoration-color: #800000\">│</span>\n",
       "<span style=\"color: #800000; text-decoration-color: #800000\">│</span>                                                                                                  <span style=\"color: #800000; text-decoration-color: #800000\">│</span>\n",
       "<span style=\"color: #800000; text-decoration-color: #800000\">│</span>   <span style=\"color: #7f7f7f; text-decoration-color: #7f7f7f\">2941 </span><span style=\"color: #7f7f7f; text-decoration-color: #7f7f7f\">│   │   </span><span style=\"color: #0000ff; text-decoration-color: #0000ff\">else</span>:                                                                             <span style=\"color: #800000; text-decoration-color: #800000\">│</span>\n",
       "<span style=\"color: #800000; text-decoration-color: #800000\">│</span>   <span style=\"color: #7f7f7f; text-decoration-color: #7f7f7f\">2942 </span><span style=\"color: #7f7f7f; text-decoration-color: #7f7f7f\">│   │   │   </span>out = X, y                                                                    <span style=\"color: #800000; text-decoration-color: #800000\">│</span>\n",
       "<span style=\"color: #800000; text-decoration-color: #800000\">│</span>   <span style=\"color: #7f7f7f; text-decoration-color: #7f7f7f\">2943 </span><span style=\"color: #7f7f7f; text-decoration-color: #7f7f7f\">│   </span><span style=\"color: #0000ff; text-decoration-color: #0000ff\">elif</span> <span style=\"color: #ff00ff; text-decoration-color: #ff00ff\">not</span> no_val_X <span style=\"color: #ff00ff; text-decoration-color: #ff00ff\">and</span> no_val_y:                                                       <span style=\"color: #800000; text-decoration-color: #800000\">│</span>\n",
       "<span style=\"color: #800000; text-decoration-color: #800000\">│</span> <span style=\"color: #800000; text-decoration-color: #800000\">❱ </span>2944 <span style=\"color: #7f7f7f; text-decoration-color: #7f7f7f\">│   │   </span>out = <span style=\"font-weight: bold; text-decoration: underline\">check_array(X, input_name=</span><span style=\"color: #808000; text-decoration-color: #808000; font-weight: bold; text-decoration: underline\">\"X\"</span><span style=\"font-weight: bold; text-decoration: underline\">, **check_params)</span>                              <span style=\"color: #800000; text-decoration-color: #800000\">│</span>\n",
       "<span style=\"color: #800000; text-decoration-color: #800000\">│</span>   <span style=\"color: #7f7f7f; text-decoration-color: #7f7f7f\">2945 </span><span style=\"color: #7f7f7f; text-decoration-color: #7f7f7f\">│   </span><span style=\"color: #0000ff; text-decoration-color: #0000ff\">elif</span> no_val_X <span style=\"color: #ff00ff; text-decoration-color: #ff00ff\">and</span> <span style=\"color: #ff00ff; text-decoration-color: #ff00ff\">not</span> no_val_y:                                                       <span style=\"color: #800000; text-decoration-color: #800000\">│</span>\n",
       "<span style=\"color: #800000; text-decoration-color: #800000\">│</span>   <span style=\"color: #7f7f7f; text-decoration-color: #7f7f7f\">2946 </span><span style=\"color: #7f7f7f; text-decoration-color: #7f7f7f\">│   │   </span>out = _check_y(y, **check_params)                                                 <span style=\"color: #800000; text-decoration-color: #800000\">│</span>\n",
       "<span style=\"color: #800000; text-decoration-color: #800000\">│</span>   <span style=\"color: #7f7f7f; text-decoration-color: #7f7f7f\">2947 </span><span style=\"color: #7f7f7f; text-decoration-color: #7f7f7f\">│   </span><span style=\"color: #0000ff; text-decoration-color: #0000ff\">else</span>:                                                                                 <span style=\"color: #800000; text-decoration-color: #800000\">│</span>\n",
       "<span style=\"color: #800000; text-decoration-color: #800000\">│</span>                                                                                                  <span style=\"color: #800000; text-decoration-color: #800000\">│</span>\n",
       "<span style=\"color: #800000; text-decoration-color: #800000\">│</span> <span style=\"color: #bfbf7f; text-decoration-color: #bfbf7f\">/home/lonk/micromamba/envs/thesis/lib/python3.12/site-packages/sklearn/utils/</span><span style=\"color: #808000; text-decoration-color: #808000; font-weight: bold\">validation.py</span>:<span style=\"color: #0000ff; text-decoration-color: #0000ff\">1107</span>  <span style=\"color: #800000; text-decoration-color: #800000\">│</span>\n",
       "<span style=\"color: #800000; text-decoration-color: #800000\">│</span> in <span style=\"color: #00ff00; text-decoration-color: #00ff00\">check_array</span>                                                                                   <span style=\"color: #800000; text-decoration-color: #800000\">│</span>\n",
       "<span style=\"color: #800000; text-decoration-color: #800000\">│</span>                                                                                                  <span style=\"color: #800000; text-decoration-color: #800000\">│</span>\n",
       "<span style=\"color: #800000; text-decoration-color: #800000\">│</span>   <span style=\"color: #7f7f7f; text-decoration-color: #7f7f7f\">1104 </span><span style=\"color: #7f7f7f; text-decoration-color: #7f7f7f\">│   │   │   </span>)                                                                             <span style=\"color: #800000; text-decoration-color: #800000\">│</span>\n",
       "<span style=\"color: #800000; text-decoration-color: #800000\">│</span>   <span style=\"color: #7f7f7f; text-decoration-color: #7f7f7f\">1105 </span><span style=\"color: #7f7f7f; text-decoration-color: #7f7f7f\">│   │   </span>                                                                                  <span style=\"color: #800000; text-decoration-color: #800000\">│</span>\n",
       "<span style=\"color: #800000; text-decoration-color: #800000\">│</span>   <span style=\"color: #7f7f7f; text-decoration-color: #7f7f7f\">1106 </span><span style=\"color: #7f7f7f; text-decoration-color: #7f7f7f\">│   │   </span><span style=\"color: #0000ff; text-decoration-color: #0000ff\">if</span> ensure_all_finite:                                                             <span style=\"color: #800000; text-decoration-color: #800000\">│</span>\n",
       "<span style=\"color: #800000; text-decoration-color: #800000\">│</span> <span style=\"color: #800000; text-decoration-color: #800000\">❱ </span>1107 <span style=\"color: #7f7f7f; text-decoration-color: #7f7f7f\">│   │   │   </span>_assert_all_finite(                                                           <span style=\"color: #800000; text-decoration-color: #800000\">│</span>\n",
       "<span style=\"color: #800000; text-decoration-color: #800000\">│</span>   <span style=\"color: #7f7f7f; text-decoration-color: #7f7f7f\">1108 </span><span style=\"color: #7f7f7f; text-decoration-color: #7f7f7f\">│   │   │   │   </span>array,                                                                    <span style=\"color: #800000; text-decoration-color: #800000\">│</span>\n",
       "<span style=\"color: #800000; text-decoration-color: #800000\">│</span>   <span style=\"color: #7f7f7f; text-decoration-color: #7f7f7f\">1109 </span><span style=\"color: #7f7f7f; text-decoration-color: #7f7f7f\">│   │   │   │   </span>input_name=input_name,                                                    <span style=\"color: #800000; text-decoration-color: #800000\">│</span>\n",
       "<span style=\"color: #800000; text-decoration-color: #800000\">│</span>   <span style=\"color: #7f7f7f; text-decoration-color: #7f7f7f\">1110 </span><span style=\"color: #7f7f7f; text-decoration-color: #7f7f7f\">│   │   │   │   </span>estimator_name=estimator_name,                                            <span style=\"color: #800000; text-decoration-color: #800000\">│</span>\n",
       "<span style=\"color: #800000; text-decoration-color: #800000\">│</span>                                                                                                  <span style=\"color: #800000; text-decoration-color: #800000\">│</span>\n",
       "<span style=\"color: #800000; text-decoration-color: #800000\">│</span> <span style=\"color: #bfbf7f; text-decoration-color: #bfbf7f\">/home/lonk/micromamba/envs/thesis/lib/python3.12/site-packages/sklearn/utils/</span><span style=\"color: #808000; text-decoration-color: #808000; font-weight: bold\">validation.py</span>:<span style=\"color: #0000ff; text-decoration-color: #0000ff\">120</span>   <span style=\"color: #800000; text-decoration-color: #800000\">│</span>\n",
       "<span style=\"color: #800000; text-decoration-color: #800000\">│</span> in <span style=\"color: #00ff00; text-decoration-color: #00ff00\">_assert_all_finite</span>                                                                            <span style=\"color: #800000; text-decoration-color: #800000\">│</span>\n",
       "<span style=\"color: #800000; text-decoration-color: #800000\">│</span>                                                                                                  <span style=\"color: #800000; text-decoration-color: #800000\">│</span>\n",
       "<span style=\"color: #800000; text-decoration-color: #800000\">│</span>   <span style=\"color: #7f7f7f; text-decoration-color: #7f7f7f\"> 117 </span><span style=\"color: #7f7f7f; text-decoration-color: #7f7f7f\">│   </span><span style=\"color: #0000ff; text-decoration-color: #0000ff\">if</span> first_pass_isfinite:                                                               <span style=\"color: #800000; text-decoration-color: #800000\">│</span>\n",
       "<span style=\"color: #800000; text-decoration-color: #800000\">│</span>   <span style=\"color: #7f7f7f; text-decoration-color: #7f7f7f\"> 118 </span><span style=\"color: #7f7f7f; text-decoration-color: #7f7f7f\">│   │   </span><span style=\"color: #0000ff; text-decoration-color: #0000ff\">return</span>                                                                            <span style=\"color: #800000; text-decoration-color: #800000\">│</span>\n",
       "<span style=\"color: #800000; text-decoration-color: #800000\">│</span>   <span style=\"color: #7f7f7f; text-decoration-color: #7f7f7f\"> 119 </span><span style=\"color: #7f7f7f; text-decoration-color: #7f7f7f\">│   </span>                                                                                      <span style=\"color: #800000; text-decoration-color: #800000\">│</span>\n",
       "<span style=\"color: #800000; text-decoration-color: #800000\">│</span> <span style=\"color: #800000; text-decoration-color: #800000\">❱ </span> 120 <span style=\"color: #7f7f7f; text-decoration-color: #7f7f7f\">│   </span>_assert_all_finite_element_wise(                                                      <span style=\"color: #800000; text-decoration-color: #800000\">│</span>\n",
       "<span style=\"color: #800000; text-decoration-color: #800000\">│</span>   <span style=\"color: #7f7f7f; text-decoration-color: #7f7f7f\"> 121 </span><span style=\"color: #7f7f7f; text-decoration-color: #7f7f7f\">│   │   </span>X,                                                                                <span style=\"color: #800000; text-decoration-color: #800000\">│</span>\n",
       "<span style=\"color: #800000; text-decoration-color: #800000\">│</span>   <span style=\"color: #7f7f7f; text-decoration-color: #7f7f7f\"> 122 </span><span style=\"color: #7f7f7f; text-decoration-color: #7f7f7f\">│   │   </span>xp=xp,                                                                            <span style=\"color: #800000; text-decoration-color: #800000\">│</span>\n",
       "<span style=\"color: #800000; text-decoration-color: #800000\">│</span>   <span style=\"color: #7f7f7f; text-decoration-color: #7f7f7f\"> 123 </span><span style=\"color: #7f7f7f; text-decoration-color: #7f7f7f\">│   │   </span>allow_nan=allow_nan,                                                              <span style=\"color: #800000; text-decoration-color: #800000\">│</span>\n",
       "<span style=\"color: #800000; text-decoration-color: #800000\">│</span>                                                                                                  <span style=\"color: #800000; text-decoration-color: #800000\">│</span>\n",
       "<span style=\"color: #800000; text-decoration-color: #800000\">│</span> <span style=\"color: #bfbf7f; text-decoration-color: #bfbf7f\">/home/lonk/micromamba/envs/thesis/lib/python3.12/site-packages/sklearn/utils/</span><span style=\"color: #808000; text-decoration-color: #808000; font-weight: bold\">validation.py</span>:<span style=\"color: #0000ff; text-decoration-color: #0000ff\">169</span>   <span style=\"color: #800000; text-decoration-color: #800000\">│</span>\n",
       "<span style=\"color: #800000; text-decoration-color: #800000\">│</span> in <span style=\"color: #00ff00; text-decoration-color: #00ff00\">_assert_all_finite_element_wise</span>                                                               <span style=\"color: #800000; text-decoration-color: #800000\">│</span>\n",
       "<span style=\"color: #800000; text-decoration-color: #800000\">│</span>                                                                                                  <span style=\"color: #800000; text-decoration-color: #800000\">│</span>\n",
       "<span style=\"color: #800000; text-decoration-color: #800000\">│</span>   <span style=\"color: #7f7f7f; text-decoration-color: #7f7f7f\"> 166 </span><span style=\"color: #7f7f7f; text-decoration-color: #7f7f7f\">│   │   │   │   </span><span style=\"color: #808000; text-decoration-color: #808000\">\" https://scikit-learn.org/stable/modules/impute.html\"</span>                    <span style=\"color: #800000; text-decoration-color: #800000\">│</span>\n",
       "<span style=\"color: #800000; text-decoration-color: #800000\">│</span>   <span style=\"color: #7f7f7f; text-decoration-color: #7f7f7f\"> 167 </span><span style=\"color: #7f7f7f; text-decoration-color: #7f7f7f\">│   │   │   │   </span><span style=\"color: #808000; text-decoration-color: #808000\">\"#estimators-that-handle-nan-values\"</span>                                      <span style=\"color: #800000; text-decoration-color: #800000\">│</span>\n",
       "<span style=\"color: #800000; text-decoration-color: #800000\">│</span>   <span style=\"color: #7f7f7f; text-decoration-color: #7f7f7f\"> 168 </span><span style=\"color: #7f7f7f; text-decoration-color: #7f7f7f\">│   │   │   </span>)                                                                             <span style=\"color: #800000; text-decoration-color: #800000\">│</span>\n",
       "<span style=\"color: #800000; text-decoration-color: #800000\">│</span> <span style=\"color: #800000; text-decoration-color: #800000\">❱ </span> 169 <span style=\"color: #7f7f7f; text-decoration-color: #7f7f7f\">│   │   </span><span style=\"color: #0000ff; text-decoration-color: #0000ff; font-weight: bold; text-decoration: underline\">raise</span><span style=\"font-weight: bold; text-decoration: underline\"> </span><span style=\"color: #00ffff; text-decoration-color: #00ffff; font-weight: bold; text-decoration: underline\">ValueError</span><span style=\"font-weight: bold; text-decoration: underline\">(msg_err)</span>                                                         <span style=\"color: #800000; text-decoration-color: #800000\">│</span>\n",
       "<span style=\"color: #800000; text-decoration-color: #800000\">│</span>   <span style=\"color: #7f7f7f; text-decoration-color: #7f7f7f\"> 170 </span>                                                                                          <span style=\"color: #800000; text-decoration-color: #800000\">│</span>\n",
       "<span style=\"color: #800000; text-decoration-color: #800000\">│</span>   <span style=\"color: #7f7f7f; text-decoration-color: #7f7f7f\"> 171 </span>                                                                                          <span style=\"color: #800000; text-decoration-color: #800000\">│</span>\n",
       "<span style=\"color: #800000; text-decoration-color: #800000\">│</span>   <span style=\"color: #7f7f7f; text-decoration-color: #7f7f7f\"> 172 </span><span style=\"color: #0000ff; text-decoration-color: #0000ff\">def</span><span style=\"color: #808080; text-decoration-color: #808080\"> </span><span style=\"color: #00ff00; text-decoration-color: #00ff00\">assert_all_finite</span>(                                                                    <span style=\"color: #800000; text-decoration-color: #800000\">│</span>\n",
       "<span style=\"color: #800000; text-decoration-color: #800000\">╰──────────────────────────────────────────────────────────────────────────────────────────────────╯</span>\n",
       "<span style=\"color: #ff0000; text-decoration-color: #ff0000; font-weight: bold\">ValueError: </span>Input X contains NaN.\n",
       "KMeans does not accept missing values encoded as NaN natively. For supervised learning, you might want to consider \n",
       "sklearn.ensemble.HistGradientBoostingClassifier and Regressor which accept missing values encoded as NaNs natively.\n",
       "Alternatively, it is possible to preprocess the data, for instance by using an imputer transformer in a pipeline or\n",
       "drop samples with missing values. See <span style=\"color: #0000ff; text-decoration-color: #0000ff; text-decoration: underline\">https://scikit-learn.org/stable/modules/impute.html</span> You can find a list of \n",
       "all estimators that handle NaN values at the following page: \n",
       "<span style=\"color: #0000ff; text-decoration-color: #0000ff; text-decoration: underline\">https://scikit-learn.org/stable/modules/impute.html#estimators-that-handle-nan-values</span>\n",
       "</pre>\n"
      ],
      "text/plain": [
       "\u001b[31m╭─\u001b[0m\u001b[31m──────────────────────────────\u001b[0m\u001b[31m \u001b[0m\u001b[1;31mTraceback \u001b[0m\u001b[1;2;31m(most recent call last)\u001b[0m\u001b[31m \u001b[0m\u001b[31m───────────────────────────────\u001b[0m\u001b[31m─╮\u001b[0m\n",
       "\u001b[31m│\u001b[0m in \u001b[92m<module>\u001b[0m:\u001b[94m6\u001b[0m                                                                                    \u001b[31m│\u001b[0m\n",
       "\u001b[31m│\u001b[0m                                                                                                  \u001b[31m│\u001b[0m\n",
       "\u001b[31m│\u001b[0m   \u001b[2m 3 \u001b[0mdevice = torch.device(\u001b[33m\"\u001b[0m\u001b[33mcuda\u001b[0m\u001b[33m\"\u001b[0m \u001b[94mif\u001b[0m torch.cuda.is_available() \u001b[94melse\u001b[0m \u001b[33m\"\u001b[0m\u001b[33mcpu\u001b[0m\u001b[33m\"\u001b[0m)                       \u001b[31m│\u001b[0m\n",
       "\u001b[31m│\u001b[0m   \u001b[2m 4 \u001b[0mmodel = TextUMC().to(device)                                                                \u001b[31m│\u001b[0m\n",
       "\u001b[31m│\u001b[0m   \u001b[2m 5 \u001b[0m                                                                                            \u001b[31m│\u001b[0m\n",
       "\u001b[31m│\u001b[0m \u001b[31m❱ \u001b[0m 6 trained_evidences, metrics = umc_train(                                                     \u001b[31m│\u001b[0m\n",
       "\u001b[31m│\u001b[0m   \u001b[2m 7 \u001b[0m\u001b[2m│   \u001b[0mmodel=model,                                                                            \u001b[31m│\u001b[0m\n",
       "\u001b[31m│\u001b[0m   \u001b[2m 8 \u001b[0m\u001b[2m│   \u001b[0mevidences=example_claim.evidences,                                                      \u001b[31m│\u001b[0m\n",
       "\u001b[31m│\u001b[0m   \u001b[2m 9 \u001b[0m\u001b[2m│   \u001b[0mnum_clusters=\u001b[96mmin\u001b[0m(\u001b[96mlen\u001b[0m(example_claim.evidences), \u001b[94m5\u001b[0m),                                      \u001b[31m│\u001b[0m\n",
       "\u001b[31m│\u001b[0m                                                                                                  \u001b[31m│\u001b[0m\n",
       "\u001b[31m│\u001b[0m \u001b[2;33m/home/lonk/codes/thesis-test-code/TextUMC/\u001b[0m\u001b[1;33mmodel.py\u001b[0m:\u001b[94m430\u001b[0m in \u001b[92mumc_train\u001b[0m                              \u001b[31m│\u001b[0m\n",
       "\u001b[31m│\u001b[0m                                                                                                  \u001b[31m│\u001b[0m\n",
       "\u001b[31m│\u001b[0m   \u001b[2m427 \u001b[0m\u001b[2m│   │   │   \u001b[0membeddings = model(batch_texts)                                                \u001b[31m│\u001b[0m\n",
       "\u001b[31m│\u001b[0m   \u001b[2m428 \u001b[0m\u001b[2m│   │   │   \u001b[0m                                                                               \u001b[31m│\u001b[0m\n",
       "\u001b[31m│\u001b[0m   \u001b[2m429 \u001b[0m\u001b[2m│   │   │   \u001b[0m\u001b[2m# Get cluster assignments\u001b[0m                                                      \u001b[31m│\u001b[0m\n",
       "\u001b[31m│\u001b[0m \u001b[31m❱ \u001b[0m430 \u001b[2m│   │   │   \u001b[0m_, pseudo_labels, current_centroids = \u001b[1;4mcluster_and_select_samples(\u001b[0m              \u001b[31m│\u001b[0m\n",
       "\u001b[31m│\u001b[0m   \u001b[2m431 \u001b[0m\u001b[1;2;4m│   │   │   │   \u001b[0m\u001b[1;4membeddings, num_clusters, \u001b[0m\u001b[1;4;94m0.5\u001b[0m\u001b[1;4m, current_centroids, model.device\u001b[0m             \u001b[31m│\u001b[0m\n",
       "\u001b[31m│\u001b[0m   \u001b[2m432 \u001b[0m\u001b[1;2;4m│   │   │   \u001b[0m\u001b[1;4m)\u001b[0m                                                                              \u001b[31m│\u001b[0m\n",
       "\u001b[31m│\u001b[0m   \u001b[2m433 \u001b[0m                                                                                           \u001b[31m│\u001b[0m\n",
       "\u001b[31m│\u001b[0m                                                                                                  \u001b[31m│\u001b[0m\n",
       "\u001b[31m│\u001b[0m \u001b[2;33m/home/lonk/codes/thesis-test-code/TextUMC/\u001b[0m\u001b[1;33mmodel.py\u001b[0m:\u001b[94m258\u001b[0m in \u001b[92mcluster_and_select_samples\u001b[0m             \u001b[31m│\u001b[0m\n",
       "\u001b[31m│\u001b[0m                                                                                                  \u001b[31m│\u001b[0m\n",
       "\u001b[31m│\u001b[0m   \u001b[2m255 \u001b[0m\u001b[2m│   │   \u001b[0mn_init=\u001b[94m5\u001b[0m,                                                                          \u001b[31m│\u001b[0m\n",
       "\u001b[31m│\u001b[0m   \u001b[2m256 \u001b[0m\u001b[2m│   │   \u001b[0mmax_iter=\u001b[94m200\u001b[0m,                                                                      \u001b[31m│\u001b[0m\n",
       "\u001b[31m│\u001b[0m   \u001b[2m257 \u001b[0m\u001b[2m│   \u001b[0m)                                                                                      \u001b[31m│\u001b[0m\n",
       "\u001b[31m│\u001b[0m \u001b[31m❱ \u001b[0m258 \u001b[2m│   \u001b[0m\u001b[1;4mkmeans.fit(embeddings.detach().cpu().numpy())\u001b[0m                                          \u001b[31m│\u001b[0m\n",
       "\u001b[31m│\u001b[0m   \u001b[2m259 \u001b[0m\u001b[2m│   \u001b[0mcluster_labels = kmeans.labels_                                                        \u001b[31m│\u001b[0m\n",
       "\u001b[31m│\u001b[0m   \u001b[2m260 \u001b[0m\u001b[2m│   \u001b[0mnew_centroids = kmeans.cluster_centers_                                                \u001b[31m│\u001b[0m\n",
       "\u001b[31m│\u001b[0m   \u001b[2m261 \u001b[0m                                                                                           \u001b[31m│\u001b[0m\n",
       "\u001b[31m│\u001b[0m                                                                                                  \u001b[31m│\u001b[0m\n",
       "\u001b[31m│\u001b[0m \u001b[2;33m/home/lonk/micromamba/envs/thesis/lib/python3.12/site-packages/sklearn/\u001b[0m\u001b[1;33mbase.py\u001b[0m:\u001b[94m1389\u001b[0m in \u001b[92mwrapper\u001b[0m   \u001b[31m│\u001b[0m\n",
       "\u001b[31m│\u001b[0m                                                                                                  \u001b[31m│\u001b[0m\n",
       "\u001b[31m│\u001b[0m   \u001b[2m1386 \u001b[0m\u001b[2m│   │   │   │   │   \u001b[0mprefer_skip_nested_validation \u001b[95mor\u001b[0m global_skip_validation               \u001b[31m│\u001b[0m\n",
       "\u001b[31m│\u001b[0m   \u001b[2m1387 \u001b[0m\u001b[2m│   │   │   │   \u001b[0m)                                                                         \u001b[31m│\u001b[0m\n",
       "\u001b[31m│\u001b[0m   \u001b[2m1388 \u001b[0m\u001b[2m│   │   │   \u001b[0m):                                                                            \u001b[31m│\u001b[0m\n",
       "\u001b[31m│\u001b[0m \u001b[31m❱ \u001b[0m1389 \u001b[2m│   │   │   │   \u001b[0m\u001b[94mreturn\u001b[0m \u001b[1;4mfit_method(estimator, *args, **kwargs)\u001b[0m                             \u001b[31m│\u001b[0m\n",
       "\u001b[31m│\u001b[0m   \u001b[2m1390 \u001b[0m\u001b[2m│   │   \u001b[0m                                                                                  \u001b[31m│\u001b[0m\n",
       "\u001b[31m│\u001b[0m   \u001b[2m1391 \u001b[0m\u001b[2m│   │   \u001b[0m\u001b[94mreturn\u001b[0m wrapper                                                                    \u001b[31m│\u001b[0m\n",
       "\u001b[31m│\u001b[0m   \u001b[2m1392 \u001b[0m                                                                                          \u001b[31m│\u001b[0m\n",
       "\u001b[31m│\u001b[0m                                                                                                  \u001b[31m│\u001b[0m\n",
       "\u001b[31m│\u001b[0m \u001b[2;33m/home/lonk/micromamba/envs/thesis/lib/python3.12/site-packages/sklearn/cluster/\u001b[0m\u001b[1;33m_kmeans.py\u001b[0m:\u001b[94m1446\u001b[0m   \u001b[31m│\u001b[0m\n",
       "\u001b[31m│\u001b[0m in \u001b[92mfit\u001b[0m                                                                                           \u001b[31m│\u001b[0m\n",
       "\u001b[31m│\u001b[0m                                                                                                  \u001b[31m│\u001b[0m\n",
       "\u001b[31m│\u001b[0m   \u001b[2m1443 \u001b[0m\u001b[2;33m│   │   \u001b[0m\u001b[33mself : object\u001b[0m                                                                     \u001b[31m│\u001b[0m\n",
       "\u001b[31m│\u001b[0m   \u001b[2m1444 \u001b[0m\u001b[2;33m│   │   │   \u001b[0m\u001b[33mFitted estimator.\u001b[0m                                                             \u001b[31m│\u001b[0m\n",
       "\u001b[31m│\u001b[0m   \u001b[2m1445 \u001b[0m\u001b[2;33m│   │   \u001b[0m\u001b[33m\"\"\"\u001b[0m                                                                               \u001b[31m│\u001b[0m\n",
       "\u001b[31m│\u001b[0m \u001b[31m❱ \u001b[0m1446 \u001b[2m│   │   \u001b[0mX = validate_data(                                                                \u001b[31m│\u001b[0m\n",
       "\u001b[31m│\u001b[0m   \u001b[2m1447 \u001b[0m\u001b[2m│   │   │   \u001b[0m\u001b[96mself\u001b[0m,                                                                         \u001b[31m│\u001b[0m\n",
       "\u001b[31m│\u001b[0m   \u001b[2m1448 \u001b[0m\u001b[2m│   │   │   \u001b[0mX,                                                                            \u001b[31m│\u001b[0m\n",
       "\u001b[31m│\u001b[0m   \u001b[2m1449 \u001b[0m\u001b[2m│   │   │   \u001b[0maccept_sparse=\u001b[33m\"\u001b[0m\u001b[33mcsr\u001b[0m\u001b[33m\"\u001b[0m,                                                          \u001b[31m│\u001b[0m\n",
       "\u001b[31m│\u001b[0m                                                                                                  \u001b[31m│\u001b[0m\n",
       "\u001b[31m│\u001b[0m \u001b[2;33m/home/lonk/micromamba/envs/thesis/lib/python3.12/site-packages/sklearn/utils/\u001b[0m\u001b[1;33mvalidation.py\u001b[0m:\u001b[94m2944\u001b[0m  \u001b[31m│\u001b[0m\n",
       "\u001b[31m│\u001b[0m in \u001b[92mvalidate_data\u001b[0m                                                                                 \u001b[31m│\u001b[0m\n",
       "\u001b[31m│\u001b[0m                                                                                                  \u001b[31m│\u001b[0m\n",
       "\u001b[31m│\u001b[0m   \u001b[2m2941 \u001b[0m\u001b[2m│   │   \u001b[0m\u001b[94melse\u001b[0m:                                                                             \u001b[31m│\u001b[0m\n",
       "\u001b[31m│\u001b[0m   \u001b[2m2942 \u001b[0m\u001b[2m│   │   │   \u001b[0mout = X, y                                                                    \u001b[31m│\u001b[0m\n",
       "\u001b[31m│\u001b[0m   \u001b[2m2943 \u001b[0m\u001b[2m│   \u001b[0m\u001b[94melif\u001b[0m \u001b[95mnot\u001b[0m no_val_X \u001b[95mand\u001b[0m no_val_y:                                                       \u001b[31m│\u001b[0m\n",
       "\u001b[31m│\u001b[0m \u001b[31m❱ \u001b[0m2944 \u001b[2m│   │   \u001b[0mout = \u001b[1;4mcheck_array(X, input_name=\u001b[0m\u001b[1;4;33m\"\u001b[0m\u001b[1;4;33mX\u001b[0m\u001b[1;4;33m\"\u001b[0m\u001b[1;4m, **check_params)\u001b[0m                              \u001b[31m│\u001b[0m\n",
       "\u001b[31m│\u001b[0m   \u001b[2m2945 \u001b[0m\u001b[2m│   \u001b[0m\u001b[94melif\u001b[0m no_val_X \u001b[95mand\u001b[0m \u001b[95mnot\u001b[0m no_val_y:                                                       \u001b[31m│\u001b[0m\n",
       "\u001b[31m│\u001b[0m   \u001b[2m2946 \u001b[0m\u001b[2m│   │   \u001b[0mout = _check_y(y, **check_params)                                                 \u001b[31m│\u001b[0m\n",
       "\u001b[31m│\u001b[0m   \u001b[2m2947 \u001b[0m\u001b[2m│   \u001b[0m\u001b[94melse\u001b[0m:                                                                                 \u001b[31m│\u001b[0m\n",
       "\u001b[31m│\u001b[0m                                                                                                  \u001b[31m│\u001b[0m\n",
       "\u001b[31m│\u001b[0m \u001b[2;33m/home/lonk/micromamba/envs/thesis/lib/python3.12/site-packages/sklearn/utils/\u001b[0m\u001b[1;33mvalidation.py\u001b[0m:\u001b[94m1107\u001b[0m  \u001b[31m│\u001b[0m\n",
       "\u001b[31m│\u001b[0m in \u001b[92mcheck_array\u001b[0m                                                                                   \u001b[31m│\u001b[0m\n",
       "\u001b[31m│\u001b[0m                                                                                                  \u001b[31m│\u001b[0m\n",
       "\u001b[31m│\u001b[0m   \u001b[2m1104 \u001b[0m\u001b[2m│   │   │   \u001b[0m)                                                                             \u001b[31m│\u001b[0m\n",
       "\u001b[31m│\u001b[0m   \u001b[2m1105 \u001b[0m\u001b[2m│   │   \u001b[0m                                                                                  \u001b[31m│\u001b[0m\n",
       "\u001b[31m│\u001b[0m   \u001b[2m1106 \u001b[0m\u001b[2m│   │   \u001b[0m\u001b[94mif\u001b[0m ensure_all_finite:                                                             \u001b[31m│\u001b[0m\n",
       "\u001b[31m│\u001b[0m \u001b[31m❱ \u001b[0m1107 \u001b[2m│   │   │   \u001b[0m_assert_all_finite(                                                           \u001b[31m│\u001b[0m\n",
       "\u001b[31m│\u001b[0m   \u001b[2m1108 \u001b[0m\u001b[2m│   │   │   │   \u001b[0marray,                                                                    \u001b[31m│\u001b[0m\n",
       "\u001b[31m│\u001b[0m   \u001b[2m1109 \u001b[0m\u001b[2m│   │   │   │   \u001b[0minput_name=input_name,                                                    \u001b[31m│\u001b[0m\n",
       "\u001b[31m│\u001b[0m   \u001b[2m1110 \u001b[0m\u001b[2m│   │   │   │   \u001b[0mestimator_name=estimator_name,                                            \u001b[31m│\u001b[0m\n",
       "\u001b[31m│\u001b[0m                                                                                                  \u001b[31m│\u001b[0m\n",
       "\u001b[31m│\u001b[0m \u001b[2;33m/home/lonk/micromamba/envs/thesis/lib/python3.12/site-packages/sklearn/utils/\u001b[0m\u001b[1;33mvalidation.py\u001b[0m:\u001b[94m120\u001b[0m   \u001b[31m│\u001b[0m\n",
       "\u001b[31m│\u001b[0m in \u001b[92m_assert_all_finite\u001b[0m                                                                            \u001b[31m│\u001b[0m\n",
       "\u001b[31m│\u001b[0m                                                                                                  \u001b[31m│\u001b[0m\n",
       "\u001b[31m│\u001b[0m   \u001b[2m 117 \u001b[0m\u001b[2m│   \u001b[0m\u001b[94mif\u001b[0m first_pass_isfinite:                                                               \u001b[31m│\u001b[0m\n",
       "\u001b[31m│\u001b[0m   \u001b[2m 118 \u001b[0m\u001b[2m│   │   \u001b[0m\u001b[94mreturn\u001b[0m                                                                            \u001b[31m│\u001b[0m\n",
       "\u001b[31m│\u001b[0m   \u001b[2m 119 \u001b[0m\u001b[2m│   \u001b[0m                                                                                      \u001b[31m│\u001b[0m\n",
       "\u001b[31m│\u001b[0m \u001b[31m❱ \u001b[0m 120 \u001b[2m│   \u001b[0m_assert_all_finite_element_wise(                                                      \u001b[31m│\u001b[0m\n",
       "\u001b[31m│\u001b[0m   \u001b[2m 121 \u001b[0m\u001b[2m│   │   \u001b[0mX,                                                                                \u001b[31m│\u001b[0m\n",
       "\u001b[31m│\u001b[0m   \u001b[2m 122 \u001b[0m\u001b[2m│   │   \u001b[0mxp=xp,                                                                            \u001b[31m│\u001b[0m\n",
       "\u001b[31m│\u001b[0m   \u001b[2m 123 \u001b[0m\u001b[2m│   │   \u001b[0mallow_nan=allow_nan,                                                              \u001b[31m│\u001b[0m\n",
       "\u001b[31m│\u001b[0m                                                                                                  \u001b[31m│\u001b[0m\n",
       "\u001b[31m│\u001b[0m \u001b[2;33m/home/lonk/micromamba/envs/thesis/lib/python3.12/site-packages/sklearn/utils/\u001b[0m\u001b[1;33mvalidation.py\u001b[0m:\u001b[94m169\u001b[0m   \u001b[31m│\u001b[0m\n",
       "\u001b[31m│\u001b[0m in \u001b[92m_assert_all_finite_element_wise\u001b[0m                                                               \u001b[31m│\u001b[0m\n",
       "\u001b[31m│\u001b[0m                                                                                                  \u001b[31m│\u001b[0m\n",
       "\u001b[31m│\u001b[0m   \u001b[2m 166 \u001b[0m\u001b[2m│   │   │   │   \u001b[0m\u001b[33m\"\u001b[0m\u001b[33m https://scikit-learn.org/stable/modules/impute.html\u001b[0m\u001b[33m\"\u001b[0m                    \u001b[31m│\u001b[0m\n",
       "\u001b[31m│\u001b[0m   \u001b[2m 167 \u001b[0m\u001b[2m│   │   │   │   \u001b[0m\u001b[33m\"\u001b[0m\u001b[33m#estimators-that-handle-nan-values\u001b[0m\u001b[33m\"\u001b[0m                                      \u001b[31m│\u001b[0m\n",
       "\u001b[31m│\u001b[0m   \u001b[2m 168 \u001b[0m\u001b[2m│   │   │   \u001b[0m)                                                                             \u001b[31m│\u001b[0m\n",
       "\u001b[31m│\u001b[0m \u001b[31m❱ \u001b[0m 169 \u001b[2m│   │   \u001b[0m\u001b[1;4;94mraise\u001b[0m\u001b[1;4m \u001b[0m\u001b[1;4;96mValueError\u001b[0m\u001b[1;4m(msg_err)\u001b[0m                                                         \u001b[31m│\u001b[0m\n",
       "\u001b[31m│\u001b[0m   \u001b[2m 170 \u001b[0m                                                                                          \u001b[31m│\u001b[0m\n",
       "\u001b[31m│\u001b[0m   \u001b[2m 171 \u001b[0m                                                                                          \u001b[31m│\u001b[0m\n",
       "\u001b[31m│\u001b[0m   \u001b[2m 172 \u001b[0m\u001b[94mdef\u001b[0m\u001b[90m \u001b[0m\u001b[92massert_all_finite\u001b[0m(                                                                    \u001b[31m│\u001b[0m\n",
       "\u001b[31m╰──────────────────────────────────────────────────────────────────────────────────────────────────╯\u001b[0m\n",
       "\u001b[1;91mValueError: \u001b[0mInput X contains NaN.\n",
       "KMeans does not accept missing values encoded as NaN natively. For supervised learning, you might want to consider \n",
       "sklearn.ensemble.HistGradientBoostingClassifier and Regressor which accept missing values encoded as NaNs natively.\n",
       "Alternatively, it is possible to preprocess the data, for instance by using an imputer transformer in a pipeline or\n",
       "drop samples with missing values. See \u001b[4;94mhttps://scikit-learn.org/stable/modules/impute.html\u001b[0m You can find a list of \n",
       "all estimators that handle NaN values at the following page: \n",
       "\u001b[4;94mhttps://scikit-learn.org/stable/modules/impute.html#estimators-that-handle-nan-values\u001b[0m\n"
      ]
     },
     "metadata": {},
     "output_type": "display_data"
    }
   ],
   "source": [
    "# Cell 3 - Model Training\n",
    "# Initialize model and train\n",
    "device = torch.device(\"cuda\" if torch.cuda.is_available() else \"cpu\")\n",
    "model = TextUMC().to(device)\n",
    "\n",
    "trained_evidences, metrics = umc_train(\n",
    "    model=model,\n",
    "    evidences=example_claim.evidences,\n",
    "    num_clusters=min(len(example_claim.evidences), 5),\n",
    "    batch_size=32,\n",
    "    num_epochs=10,\n",
    "    learning_rate=2e-5,\n",
    ")"
   ]
  },
  {
   "cell_type": "markdown",
   "metadata": {},
   "source": [
    "# Training Pipeline\n",
    "Implement the training loop with clustering-based pseudo-labels and contrastive learning objectives."
   ]
  },
  {
   "cell_type": "code",
   "execution_count": 4,
   "metadata": {},
   "outputs": [
    {
     "data": {
      "application/vnd.jupyter.widget-view+json": {
       "model_id": "0b16f4900aff4c6798b77f67d10fb5e4",
       "version_major": 2,
       "version_minor": 0
      },
      "text/plain": [
       "Output()"
      ]
     },
     "metadata": {},
     "output_type": "display_data"
    },
    {
     "data": {
      "application/vnd.jupyter.widget-view+json": {
       "model_id": "927a3bc80ed5493aa7f80040d1f14a01",
       "version_major": 2,
       "version_minor": 0
      },
      "text/plain": [
       "Output()"
      ]
     },
     "metadata": {},
     "output_type": "display_data"
    },
    {
     "data": {
      "text/html": [
       "<pre style=\"white-space:pre;overflow-x:auto;line-height:normal;font-family:Menlo,'DejaVu Sans Mono',consolas,'Courier New',monospace\"></pre>\n"
      ],
      "text/plain": []
     },
     "metadata": {},
     "output_type": "display_data"
    },
    {
     "data": {
      "text/html": [
       "<pre style=\"white-space:pre;overflow-x:auto;line-height:normal;font-family:Menlo,'DejaVu Sans Mono',consolas,'Courier New',monospace\">/home/lonk/micromamba/envs/thesis/lib/python3.12/site-packages/numpy/_core/fromnumeric.py:3860: RuntimeWarning: \n",
       "Mean of empty slice.\n",
       "  return _methods._mean(a, axis=axis, dtype=dtype,\n",
       "</pre>\n"
      ],
      "text/plain": [
       "/home/lonk/micromamba/envs/thesis/lib/python3.12/site-packages/numpy/_core/fromnumeric.py:3860: RuntimeWarning: \n",
       "Mean of empty slice.\n",
       "  return _methods._mean(a, axis=axis, dtype=dtype,\n"
      ]
     },
     "metadata": {},
     "output_type": "display_data"
    },
    {
     "data": {
      "text/html": [
       "<pre style=\"white-space:pre;overflow-x:auto;line-height:normal;font-family:Menlo,'DejaVu Sans Mono',consolas,'Courier New',monospace\">/home/lonk/micromamba/envs/thesis/lib/python3.12/site-packages/numpy/_core/_methods.py:145: RuntimeWarning: invalid\n",
       "value encountered in scalar divide\n",
       "  ret = ret.dtype.type(ret / rcount)\n",
       "</pre>\n"
      ],
      "text/plain": [
       "/home/lonk/micromamba/envs/thesis/lib/python3.12/site-packages/numpy/_core/_methods.py:145: RuntimeWarning: invalid\n",
       "value encountered in scalar divide\n",
       "  ret = ret.dtype.type(ret / rcount)\n"
      ]
     },
     "metadata": {},
     "output_type": "display_data"
    },
    {
     "data": {
      "text/html": [
       "<pre style=\"white-space:pre;overflow-x:auto;line-height:normal;font-family:Menlo,'DejaVu Sans Mono',consolas,'Courier New',monospace\">/home/lonk/micromamba/envs/thesis/lib/python3.12/site-packages/numpy/_core/fromnumeric.py:3860: RuntimeWarning: \n",
       "Mean of empty slice.\n",
       "  return _methods._mean(a, axis=axis, dtype=dtype,\n",
       "</pre>\n"
      ],
      "text/plain": [
       "/home/lonk/micromamba/envs/thesis/lib/python3.12/site-packages/numpy/_core/fromnumeric.py:3860: RuntimeWarning: \n",
       "Mean of empty slice.\n",
       "  return _methods._mean(a, axis=axis, dtype=dtype,\n"
      ]
     },
     "metadata": {},
     "output_type": "display_data"
    },
    {
     "data": {
      "text/html": [
       "<pre style=\"white-space:pre;overflow-x:auto;line-height:normal;font-family:Menlo,'DejaVu Sans Mono',consolas,'Courier New',monospace\">/home/lonk/micromamba/envs/thesis/lib/python3.12/site-packages/numpy/_core/_methods.py:145: RuntimeWarning: invalid\n",
       "value encountered in scalar divide\n",
       "  ret = ret.dtype.type(ret / rcount)\n",
       "</pre>\n"
      ],
      "text/plain": [
       "/home/lonk/micromamba/envs/thesis/lib/python3.12/site-packages/numpy/_core/_methods.py:145: RuntimeWarning: invalid\n",
       "value encountered in scalar divide\n",
       "  ret = ret.dtype.type(ret / rcount)\n"
      ]
     },
     "metadata": {},
     "output_type": "display_data"
    },
    {
     "data": {
      "application/vnd.jupyter.widget-view+json": {
       "model_id": "e220b530adbd4bcfbebd1c92e75c186e",
       "version_major": 2,
       "version_minor": 0
      },
      "text/plain": [
       "Output()"
      ]
     },
     "metadata": {},
     "output_type": "display_data"
    },
    {
     "data": {
      "text/html": [
       "<pre style=\"white-space:pre;overflow-x:auto;line-height:normal;font-family:Menlo,'DejaVu Sans Mono',consolas,'Courier New',monospace\"></pre>\n"
      ],
      "text/plain": []
     },
     "metadata": {},
     "output_type": "display_data"
    },
    {
     "data": {
      "text/html": [
       "<pre style=\"white-space:pre;overflow-x:auto;line-height:normal;font-family:Menlo,'DejaVu Sans Mono',consolas,'Courier New',monospace\"></pre>\n"
      ],
      "text/plain": []
     },
     "metadata": {},
     "output_type": "display_data"
    },
    {
     "data": {
      "text/html": [
       "<pre style=\"white-space:pre;overflow-x:auto;line-height:normal;font-family:Menlo,'DejaVu Sans Mono',consolas,'Courier New',monospace\"><span style=\"color: #800000; text-decoration-color: #800000\">╭─────────────────────────────── </span><span style=\"color: #800000; text-decoration-color: #800000; font-weight: bold\">Traceback </span><span style=\"color: #bf7f7f; text-decoration-color: #bf7f7f; font-weight: bold\">(most recent call last)</span><span style=\"color: #800000; text-decoration-color: #800000\"> ────────────────────────────────╮</span>\n",
       "<span style=\"color: #800000; text-decoration-color: #800000\">│</span> in <span style=\"color: #00ff00; text-decoration-color: #00ff00\">&lt;module&gt;</span>:<span style=\"color: #0000ff; text-decoration-color: #0000ff\">216</span>                                                                                  <span style=\"color: #800000; text-decoration-color: #800000\">│</span>\n",
       "<span style=\"color: #800000; text-decoration-color: #800000\">│</span>                                                                                                  <span style=\"color: #800000; text-decoration-color: #800000\">│</span>\n",
       "<span style=\"color: #800000; text-decoration-color: #800000\">│</span>   <span style=\"color: #7f7f7f; text-decoration-color: #7f7f7f\">213 </span>model = TextUMC().to(device)                                                               <span style=\"color: #800000; text-decoration-color: #800000\">│</span>\n",
       "<span style=\"color: #800000; text-decoration-color: #800000\">│</span>   <span style=\"color: #7f7f7f; text-decoration-color: #7f7f7f\">214 </span>                                                                                           <span style=\"color: #800000; text-decoration-color: #800000\">│</span>\n",
       "<span style=\"color: #800000; text-decoration-color: #800000\">│</span>   <span style=\"color: #7f7f7f; text-decoration-color: #7f7f7f\">215 # Train model</span>                                                                              <span style=\"color: #800000; text-decoration-color: #800000\">│</span>\n",
       "<span style=\"color: #800000; text-decoration-color: #800000\">│</span> <span style=\"color: #800000; text-decoration-color: #800000\">❱ </span>216 trained_evidences, metrics = umc_train(                                                    <span style=\"color: #800000; text-decoration-color: #800000\">│</span>\n",
       "<span style=\"color: #800000; text-decoration-color: #800000\">│</span>   <span style=\"color: #7f7f7f; text-decoration-color: #7f7f7f\">217 </span><span style=\"color: #7f7f7f; text-decoration-color: #7f7f7f\">│   </span>model=model,                                                                           <span style=\"color: #800000; text-decoration-color: #800000\">│</span>\n",
       "<span style=\"color: #800000; text-decoration-color: #800000\">│</span>   <span style=\"color: #7f7f7f; text-decoration-color: #7f7f7f\">218 </span><span style=\"color: #7f7f7f; text-decoration-color: #7f7f7f\">│   </span>evidences=example_claim.evidences,                                                     <span style=\"color: #800000; text-decoration-color: #800000\">│</span>\n",
       "<span style=\"color: #800000; text-decoration-color: #800000\">│</span>   <span style=\"color: #7f7f7f; text-decoration-color: #7f7f7f\">219 </span><span style=\"color: #7f7f7f; text-decoration-color: #7f7f7f\">│   </span>num_clusters=<span style=\"color: #00ffff; text-decoration-color: #00ffff\">min</span>(<span style=\"color: #00ffff; text-decoration-color: #00ffff\">len</span>(example_claim.evidences), <span style=\"color: #0000ff; text-decoration-color: #0000ff\">5</span>),                                     <span style=\"color: #800000; text-decoration-color: #800000\">│</span>\n",
       "<span style=\"color: #800000; text-decoration-color: #800000\">│</span>                                                                                                  <span style=\"color: #800000; text-decoration-color: #800000\">│</span>\n",
       "<span style=\"color: #800000; text-decoration-color: #800000\">│</span> in <span style=\"color: #00ff00; text-decoration-color: #00ff00\">umc_train</span>:<span style=\"color: #0000ff; text-decoration-color: #0000ff\">193</span>                                                                                 <span style=\"color: #800000; text-decoration-color: #800000\">│</span>\n",
       "<span style=\"color: #800000; text-decoration-color: #800000\">│</span>                                                                                                  <span style=\"color: #800000; text-decoration-color: #800000\">│</span>\n",
       "<span style=\"color: #800000; text-decoration-color: #800000\">│</span>   <span style=\"color: #7f7f7f; text-decoration-color: #7f7f7f\">190 </span><span style=\"color: #7f7f7f; text-decoration-color: #7f7f7f\">│   │   │   </span>embeddings = model(batch_texts)                                                <span style=\"color: #800000; text-decoration-color: #800000\">│</span>\n",
       "<span style=\"color: #800000; text-decoration-color: #800000\">│</span>   <span style=\"color: #7f7f7f; text-decoration-color: #7f7f7f\">191 </span><span style=\"color: #7f7f7f; text-decoration-color: #7f7f7f\">│   │   │   </span>                                                                               <span style=\"color: #800000; text-decoration-color: #800000\">│</span>\n",
       "<span style=\"color: #800000; text-decoration-color: #800000\">│</span>   <span style=\"color: #7f7f7f; text-decoration-color: #7f7f7f\">192 </span><span style=\"color: #7f7f7f; text-decoration-color: #7f7f7f\">│   │   │   </span><span style=\"color: #7f7f7f; text-decoration-color: #7f7f7f\"># Get cluster assignments</span>                                                      <span style=\"color: #800000; text-decoration-color: #800000\">│</span>\n",
       "<span style=\"color: #800000; text-decoration-color: #800000\">│</span> <span style=\"color: #800000; text-decoration-color: #800000\">❱ </span>193 <span style=\"color: #7f7f7f; text-decoration-color: #7f7f7f\">│   │   │   </span>_, pseudo_labels, current_centroids = <span style=\"font-weight: bold; text-decoration: underline\">cluster_and_select_samples(</span>              <span style=\"color: #800000; text-decoration-color: #800000\">│</span>\n",
       "<span style=\"color: #800000; text-decoration-color: #800000\">│</span>   <span style=\"color: #7f7f7f; text-decoration-color: #7f7f7f\">194 </span><span style=\"color: #7f7f7f; text-decoration-color: #7f7f7f; font-weight: bold; text-decoration: underline\">│   │   │   │   </span><span style=\"font-weight: bold; text-decoration: underline\">embeddings, num_clusters, </span><span style=\"color: #0000ff; text-decoration-color: #0000ff; font-weight: bold; text-decoration: underline\">0.5</span><span style=\"font-weight: bold; text-decoration: underline\">, current_centroids, model.device</span>             <span style=\"color: #800000; text-decoration-color: #800000\">│</span>\n",
       "<span style=\"color: #800000; text-decoration-color: #800000\">│</span>   <span style=\"color: #7f7f7f; text-decoration-color: #7f7f7f\">195 </span><span style=\"color: #7f7f7f; text-decoration-color: #7f7f7f; font-weight: bold; text-decoration: underline\">│   │   │   </span><span style=\"font-weight: bold; text-decoration: underline\">)</span>                                                                              <span style=\"color: #800000; text-decoration-color: #800000\">│</span>\n",
       "<span style=\"color: #800000; text-decoration-color: #800000\">│</span>   <span style=\"color: #7f7f7f; text-decoration-color: #7f7f7f\">196 </span>                                                                                           <span style=\"color: #800000; text-decoration-color: #800000\">│</span>\n",
       "<span style=\"color: #800000; text-decoration-color: #800000\">│</span>                                                                                                  <span style=\"color: #800000; text-decoration-color: #800000\">│</span>\n",
       "<span style=\"color: #800000; text-decoration-color: #800000\">│</span> in <span style=\"color: #00ff00; text-decoration-color: #00ff00\">cluster_and_select_samples</span>:<span style=\"color: #0000ff; text-decoration-color: #0000ff\">21</span>                                                                 <span style=\"color: #800000; text-decoration-color: #800000\">│</span>\n",
       "<span style=\"color: #800000; text-decoration-color: #800000\">│</span>                                                                                                  <span style=\"color: #800000; text-decoration-color: #800000\">│</span>\n",
       "<span style=\"color: #800000; text-decoration-color: #800000\">│</span>   <span style=\"color: #7f7f7f; text-decoration-color: #7f7f7f\"> 18 </span><span style=\"color: #7f7f7f; text-decoration-color: #7f7f7f\">│   │   </span>n_init=<span style=\"color: #0000ff; text-decoration-color: #0000ff\">5</span>,                                                                          <span style=\"color: #800000; text-decoration-color: #800000\">│</span>\n",
       "<span style=\"color: #800000; text-decoration-color: #800000\">│</span>   <span style=\"color: #7f7f7f; text-decoration-color: #7f7f7f\"> 19 </span><span style=\"color: #7f7f7f; text-decoration-color: #7f7f7f\">│   │   </span>max_iter=<span style=\"color: #0000ff; text-decoration-color: #0000ff\">200</span>,                                                                      <span style=\"color: #800000; text-decoration-color: #800000\">│</span>\n",
       "<span style=\"color: #800000; text-decoration-color: #800000\">│</span>   <span style=\"color: #7f7f7f; text-decoration-color: #7f7f7f\"> 20 </span><span style=\"color: #7f7f7f; text-decoration-color: #7f7f7f\">│   </span>)                                                                                      <span style=\"color: #800000; text-decoration-color: #800000\">│</span>\n",
       "<span style=\"color: #800000; text-decoration-color: #800000\">│</span> <span style=\"color: #800000; text-decoration-color: #800000\">❱ </span> 21 <span style=\"color: #7f7f7f; text-decoration-color: #7f7f7f\">│   </span><span style=\"font-weight: bold; text-decoration: underline\">kmeans.fit(embeddings.detach().cpu().numpy())</span>                                          <span style=\"color: #800000; text-decoration-color: #800000\">│</span>\n",
       "<span style=\"color: #800000; text-decoration-color: #800000\">│</span>   <span style=\"color: #7f7f7f; text-decoration-color: #7f7f7f\"> 22 </span><span style=\"color: #7f7f7f; text-decoration-color: #7f7f7f\">│   </span>cluster_labels = kmeans.labels_                                                        <span style=\"color: #800000; text-decoration-color: #800000\">│</span>\n",
       "<span style=\"color: #800000; text-decoration-color: #800000\">│</span>   <span style=\"color: #7f7f7f; text-decoration-color: #7f7f7f\"> 23 </span><span style=\"color: #7f7f7f; text-decoration-color: #7f7f7f\">│   </span>new_centroids = kmeans.cluster_centers_                                                <span style=\"color: #800000; text-decoration-color: #800000\">│</span>\n",
       "<span style=\"color: #800000; text-decoration-color: #800000\">│</span>   <span style=\"color: #7f7f7f; text-decoration-color: #7f7f7f\"> 24 </span>                                                                                           <span style=\"color: #800000; text-decoration-color: #800000\">│</span>\n",
       "<span style=\"color: #800000; text-decoration-color: #800000\">│</span>                                                                                                  <span style=\"color: #800000; text-decoration-color: #800000\">│</span>\n",
       "<span style=\"color: #800000; text-decoration-color: #800000\">│</span> <span style=\"color: #bfbf7f; text-decoration-color: #bfbf7f\">/home/lonk/micromamba/envs/thesis/lib/python3.12/site-packages/sklearn/</span><span style=\"color: #808000; text-decoration-color: #808000; font-weight: bold\">base.py</span>:<span style=\"color: #0000ff; text-decoration-color: #0000ff\">1389</span> in <span style=\"color: #00ff00; text-decoration-color: #00ff00\">wrapper</span>   <span style=\"color: #800000; text-decoration-color: #800000\">│</span>\n",
       "<span style=\"color: #800000; text-decoration-color: #800000\">│</span>                                                                                                  <span style=\"color: #800000; text-decoration-color: #800000\">│</span>\n",
       "<span style=\"color: #800000; text-decoration-color: #800000\">│</span>   <span style=\"color: #7f7f7f; text-decoration-color: #7f7f7f\">1386 </span><span style=\"color: #7f7f7f; text-decoration-color: #7f7f7f\">│   │   │   │   │   </span>prefer_skip_nested_validation <span style=\"color: #ff00ff; text-decoration-color: #ff00ff\">or</span> global_skip_validation               <span style=\"color: #800000; text-decoration-color: #800000\">│</span>\n",
       "<span style=\"color: #800000; text-decoration-color: #800000\">│</span>   <span style=\"color: #7f7f7f; text-decoration-color: #7f7f7f\">1387 </span><span style=\"color: #7f7f7f; text-decoration-color: #7f7f7f\">│   │   │   │   </span>)                                                                         <span style=\"color: #800000; text-decoration-color: #800000\">│</span>\n",
       "<span style=\"color: #800000; text-decoration-color: #800000\">│</span>   <span style=\"color: #7f7f7f; text-decoration-color: #7f7f7f\">1388 </span><span style=\"color: #7f7f7f; text-decoration-color: #7f7f7f\">│   │   │   </span>):                                                                            <span style=\"color: #800000; text-decoration-color: #800000\">│</span>\n",
       "<span style=\"color: #800000; text-decoration-color: #800000\">│</span> <span style=\"color: #800000; text-decoration-color: #800000\">❱ </span>1389 <span style=\"color: #7f7f7f; text-decoration-color: #7f7f7f\">│   │   │   │   </span><span style=\"color: #0000ff; text-decoration-color: #0000ff\">return</span> <span style=\"font-weight: bold; text-decoration: underline\">fit_method(estimator, *args, **kwargs)</span>                             <span style=\"color: #800000; text-decoration-color: #800000\">│</span>\n",
       "<span style=\"color: #800000; text-decoration-color: #800000\">│</span>   <span style=\"color: #7f7f7f; text-decoration-color: #7f7f7f\">1390 </span><span style=\"color: #7f7f7f; text-decoration-color: #7f7f7f\">│   │   </span>                                                                                  <span style=\"color: #800000; text-decoration-color: #800000\">│</span>\n",
       "<span style=\"color: #800000; text-decoration-color: #800000\">│</span>   <span style=\"color: #7f7f7f; text-decoration-color: #7f7f7f\">1391 </span><span style=\"color: #7f7f7f; text-decoration-color: #7f7f7f\">│   │   </span><span style=\"color: #0000ff; text-decoration-color: #0000ff\">return</span> wrapper                                                                    <span style=\"color: #800000; text-decoration-color: #800000\">│</span>\n",
       "<span style=\"color: #800000; text-decoration-color: #800000\">│</span>   <span style=\"color: #7f7f7f; text-decoration-color: #7f7f7f\">1392 </span>                                                                                          <span style=\"color: #800000; text-decoration-color: #800000\">│</span>\n",
       "<span style=\"color: #800000; text-decoration-color: #800000\">│</span>                                                                                                  <span style=\"color: #800000; text-decoration-color: #800000\">│</span>\n",
       "<span style=\"color: #800000; text-decoration-color: #800000\">│</span> <span style=\"color: #bfbf7f; text-decoration-color: #bfbf7f\">/home/lonk/micromamba/envs/thesis/lib/python3.12/site-packages/sklearn/cluster/</span><span style=\"color: #808000; text-decoration-color: #808000; font-weight: bold\">_kmeans.py</span>:<span style=\"color: #0000ff; text-decoration-color: #0000ff\">1446</span>   <span style=\"color: #800000; text-decoration-color: #800000\">│</span>\n",
       "<span style=\"color: #800000; text-decoration-color: #800000\">│</span> in <span style=\"color: #00ff00; text-decoration-color: #00ff00\">fit</span>                                                                                           <span style=\"color: #800000; text-decoration-color: #800000\">│</span>\n",
       "<span style=\"color: #800000; text-decoration-color: #800000\">│</span>                                                                                                  <span style=\"color: #800000; text-decoration-color: #800000\">│</span>\n",
       "<span style=\"color: #800000; text-decoration-color: #800000\">│</span>   <span style=\"color: #7f7f7f; text-decoration-color: #7f7f7f\">1443 </span><span style=\"color: #bfbf7f; text-decoration-color: #bfbf7f\">│   │   </span><span style=\"color: #808000; text-decoration-color: #808000\">self : object</span>                                                                     <span style=\"color: #800000; text-decoration-color: #800000\">│</span>\n",
       "<span style=\"color: #800000; text-decoration-color: #800000\">│</span>   <span style=\"color: #7f7f7f; text-decoration-color: #7f7f7f\">1444 </span><span style=\"color: #bfbf7f; text-decoration-color: #bfbf7f\">│   │   │   </span><span style=\"color: #808000; text-decoration-color: #808000\">Fitted estimator.</span>                                                             <span style=\"color: #800000; text-decoration-color: #800000\">│</span>\n",
       "<span style=\"color: #800000; text-decoration-color: #800000\">│</span>   <span style=\"color: #7f7f7f; text-decoration-color: #7f7f7f\">1445 </span><span style=\"color: #bfbf7f; text-decoration-color: #bfbf7f\">│   │   </span><span style=\"color: #808000; text-decoration-color: #808000\">\"\"\"</span>                                                                               <span style=\"color: #800000; text-decoration-color: #800000\">│</span>\n",
       "<span style=\"color: #800000; text-decoration-color: #800000\">│</span> <span style=\"color: #800000; text-decoration-color: #800000\">❱ </span>1446 <span style=\"color: #7f7f7f; text-decoration-color: #7f7f7f\">│   │   </span>X = validate_data(                                                                <span style=\"color: #800000; text-decoration-color: #800000\">│</span>\n",
       "<span style=\"color: #800000; text-decoration-color: #800000\">│</span>   <span style=\"color: #7f7f7f; text-decoration-color: #7f7f7f\">1447 </span><span style=\"color: #7f7f7f; text-decoration-color: #7f7f7f\">│   │   │   </span><span style=\"color: #00ffff; text-decoration-color: #00ffff\">self</span>,                                                                         <span style=\"color: #800000; text-decoration-color: #800000\">│</span>\n",
       "<span style=\"color: #800000; text-decoration-color: #800000\">│</span>   <span style=\"color: #7f7f7f; text-decoration-color: #7f7f7f\">1448 </span><span style=\"color: #7f7f7f; text-decoration-color: #7f7f7f\">│   │   │   </span>X,                                                                            <span style=\"color: #800000; text-decoration-color: #800000\">│</span>\n",
       "<span style=\"color: #800000; text-decoration-color: #800000\">│</span>   <span style=\"color: #7f7f7f; text-decoration-color: #7f7f7f\">1449 </span><span style=\"color: #7f7f7f; text-decoration-color: #7f7f7f\">│   │   │   </span>accept_sparse=<span style=\"color: #808000; text-decoration-color: #808000\">\"csr\"</span>,                                                          <span style=\"color: #800000; text-decoration-color: #800000\">│</span>\n",
       "<span style=\"color: #800000; text-decoration-color: #800000\">│</span>                                                                                                  <span style=\"color: #800000; text-decoration-color: #800000\">│</span>\n",
       "<span style=\"color: #800000; text-decoration-color: #800000\">│</span> <span style=\"color: #bfbf7f; text-decoration-color: #bfbf7f\">/home/lonk/micromamba/envs/thesis/lib/python3.12/site-packages/sklearn/utils/</span><span style=\"color: #808000; text-decoration-color: #808000; font-weight: bold\">validation.py</span>:<span style=\"color: #0000ff; text-decoration-color: #0000ff\">2944</span>  <span style=\"color: #800000; text-decoration-color: #800000\">│</span>\n",
       "<span style=\"color: #800000; text-decoration-color: #800000\">│</span> in <span style=\"color: #00ff00; text-decoration-color: #00ff00\">validate_data</span>                                                                                 <span style=\"color: #800000; text-decoration-color: #800000\">│</span>\n",
       "<span style=\"color: #800000; text-decoration-color: #800000\">│</span>                                                                                                  <span style=\"color: #800000; text-decoration-color: #800000\">│</span>\n",
       "<span style=\"color: #800000; text-decoration-color: #800000\">│</span>   <span style=\"color: #7f7f7f; text-decoration-color: #7f7f7f\">2941 </span><span style=\"color: #7f7f7f; text-decoration-color: #7f7f7f\">│   │   </span><span style=\"color: #0000ff; text-decoration-color: #0000ff\">else</span>:                                                                             <span style=\"color: #800000; text-decoration-color: #800000\">│</span>\n",
       "<span style=\"color: #800000; text-decoration-color: #800000\">│</span>   <span style=\"color: #7f7f7f; text-decoration-color: #7f7f7f\">2942 </span><span style=\"color: #7f7f7f; text-decoration-color: #7f7f7f\">│   │   │   </span>out = X, y                                                                    <span style=\"color: #800000; text-decoration-color: #800000\">│</span>\n",
       "<span style=\"color: #800000; text-decoration-color: #800000\">│</span>   <span style=\"color: #7f7f7f; text-decoration-color: #7f7f7f\">2943 </span><span style=\"color: #7f7f7f; text-decoration-color: #7f7f7f\">│   </span><span style=\"color: #0000ff; text-decoration-color: #0000ff\">elif</span> <span style=\"color: #ff00ff; text-decoration-color: #ff00ff\">not</span> no_val_X <span style=\"color: #ff00ff; text-decoration-color: #ff00ff\">and</span> no_val_y:                                                       <span style=\"color: #800000; text-decoration-color: #800000\">│</span>\n",
       "<span style=\"color: #800000; text-decoration-color: #800000\">│</span> <span style=\"color: #800000; text-decoration-color: #800000\">❱ </span>2944 <span style=\"color: #7f7f7f; text-decoration-color: #7f7f7f\">│   │   </span>out = <span style=\"font-weight: bold; text-decoration: underline\">check_array(X, input_name=</span><span style=\"color: #808000; text-decoration-color: #808000; font-weight: bold; text-decoration: underline\">\"X\"</span><span style=\"font-weight: bold; text-decoration: underline\">, **check_params)</span>                              <span style=\"color: #800000; text-decoration-color: #800000\">│</span>\n",
       "<span style=\"color: #800000; text-decoration-color: #800000\">│</span>   <span style=\"color: #7f7f7f; text-decoration-color: #7f7f7f\">2945 </span><span style=\"color: #7f7f7f; text-decoration-color: #7f7f7f\">│   </span><span style=\"color: #0000ff; text-decoration-color: #0000ff\">elif</span> no_val_X <span style=\"color: #ff00ff; text-decoration-color: #ff00ff\">and</span> <span style=\"color: #ff00ff; text-decoration-color: #ff00ff\">not</span> no_val_y:                                                       <span style=\"color: #800000; text-decoration-color: #800000\">│</span>\n",
       "<span style=\"color: #800000; text-decoration-color: #800000\">│</span>   <span style=\"color: #7f7f7f; text-decoration-color: #7f7f7f\">2946 </span><span style=\"color: #7f7f7f; text-decoration-color: #7f7f7f\">│   │   </span>out = _check_y(y, **check_params)                                                 <span style=\"color: #800000; text-decoration-color: #800000\">│</span>\n",
       "<span style=\"color: #800000; text-decoration-color: #800000\">│</span>   <span style=\"color: #7f7f7f; text-decoration-color: #7f7f7f\">2947 </span><span style=\"color: #7f7f7f; text-decoration-color: #7f7f7f\">│   </span><span style=\"color: #0000ff; text-decoration-color: #0000ff\">else</span>:                                                                                 <span style=\"color: #800000; text-decoration-color: #800000\">│</span>\n",
       "<span style=\"color: #800000; text-decoration-color: #800000\">│</span>                                                                                                  <span style=\"color: #800000; text-decoration-color: #800000\">│</span>\n",
       "<span style=\"color: #800000; text-decoration-color: #800000\">│</span> <span style=\"color: #bfbf7f; text-decoration-color: #bfbf7f\">/home/lonk/micromamba/envs/thesis/lib/python3.12/site-packages/sklearn/utils/</span><span style=\"color: #808000; text-decoration-color: #808000; font-weight: bold\">validation.py</span>:<span style=\"color: #0000ff; text-decoration-color: #0000ff\">1107</span>  <span style=\"color: #800000; text-decoration-color: #800000\">│</span>\n",
       "<span style=\"color: #800000; text-decoration-color: #800000\">│</span> in <span style=\"color: #00ff00; text-decoration-color: #00ff00\">check_array</span>                                                                                   <span style=\"color: #800000; text-decoration-color: #800000\">│</span>\n",
       "<span style=\"color: #800000; text-decoration-color: #800000\">│</span>                                                                                                  <span style=\"color: #800000; text-decoration-color: #800000\">│</span>\n",
       "<span style=\"color: #800000; text-decoration-color: #800000\">│</span>   <span style=\"color: #7f7f7f; text-decoration-color: #7f7f7f\">1104 </span><span style=\"color: #7f7f7f; text-decoration-color: #7f7f7f\">│   │   │   </span>)                                                                             <span style=\"color: #800000; text-decoration-color: #800000\">│</span>\n",
       "<span style=\"color: #800000; text-decoration-color: #800000\">│</span>   <span style=\"color: #7f7f7f; text-decoration-color: #7f7f7f\">1105 </span><span style=\"color: #7f7f7f; text-decoration-color: #7f7f7f\">│   │   </span>                                                                                  <span style=\"color: #800000; text-decoration-color: #800000\">│</span>\n",
       "<span style=\"color: #800000; text-decoration-color: #800000\">│</span>   <span style=\"color: #7f7f7f; text-decoration-color: #7f7f7f\">1106 </span><span style=\"color: #7f7f7f; text-decoration-color: #7f7f7f\">│   │   </span><span style=\"color: #0000ff; text-decoration-color: #0000ff\">if</span> ensure_all_finite:                                                             <span style=\"color: #800000; text-decoration-color: #800000\">│</span>\n",
       "<span style=\"color: #800000; text-decoration-color: #800000\">│</span> <span style=\"color: #800000; text-decoration-color: #800000\">❱ </span>1107 <span style=\"color: #7f7f7f; text-decoration-color: #7f7f7f\">│   │   │   </span>_assert_all_finite(                                                           <span style=\"color: #800000; text-decoration-color: #800000\">│</span>\n",
       "<span style=\"color: #800000; text-decoration-color: #800000\">│</span>   <span style=\"color: #7f7f7f; text-decoration-color: #7f7f7f\">1108 </span><span style=\"color: #7f7f7f; text-decoration-color: #7f7f7f\">│   │   │   │   </span>array,                                                                    <span style=\"color: #800000; text-decoration-color: #800000\">│</span>\n",
       "<span style=\"color: #800000; text-decoration-color: #800000\">│</span>   <span style=\"color: #7f7f7f; text-decoration-color: #7f7f7f\">1109 </span><span style=\"color: #7f7f7f; text-decoration-color: #7f7f7f\">│   │   │   │   </span>input_name=input_name,                                                    <span style=\"color: #800000; text-decoration-color: #800000\">│</span>\n",
       "<span style=\"color: #800000; text-decoration-color: #800000\">│</span>   <span style=\"color: #7f7f7f; text-decoration-color: #7f7f7f\">1110 </span><span style=\"color: #7f7f7f; text-decoration-color: #7f7f7f\">│   │   │   │   </span>estimator_name=estimator_name,                                            <span style=\"color: #800000; text-decoration-color: #800000\">│</span>\n",
       "<span style=\"color: #800000; text-decoration-color: #800000\">│</span>                                                                                                  <span style=\"color: #800000; text-decoration-color: #800000\">│</span>\n",
       "<span style=\"color: #800000; text-decoration-color: #800000\">│</span> <span style=\"color: #bfbf7f; text-decoration-color: #bfbf7f\">/home/lonk/micromamba/envs/thesis/lib/python3.12/site-packages/sklearn/utils/</span><span style=\"color: #808000; text-decoration-color: #808000; font-weight: bold\">validation.py</span>:<span style=\"color: #0000ff; text-decoration-color: #0000ff\">120</span>   <span style=\"color: #800000; text-decoration-color: #800000\">│</span>\n",
       "<span style=\"color: #800000; text-decoration-color: #800000\">│</span> in <span style=\"color: #00ff00; text-decoration-color: #00ff00\">_assert_all_finite</span>                                                                            <span style=\"color: #800000; text-decoration-color: #800000\">│</span>\n",
       "<span style=\"color: #800000; text-decoration-color: #800000\">│</span>                                                                                                  <span style=\"color: #800000; text-decoration-color: #800000\">│</span>\n",
       "<span style=\"color: #800000; text-decoration-color: #800000\">│</span>   <span style=\"color: #7f7f7f; text-decoration-color: #7f7f7f\"> 117 </span><span style=\"color: #7f7f7f; text-decoration-color: #7f7f7f\">│   </span><span style=\"color: #0000ff; text-decoration-color: #0000ff\">if</span> first_pass_isfinite:                                                               <span style=\"color: #800000; text-decoration-color: #800000\">│</span>\n",
       "<span style=\"color: #800000; text-decoration-color: #800000\">│</span>   <span style=\"color: #7f7f7f; text-decoration-color: #7f7f7f\"> 118 </span><span style=\"color: #7f7f7f; text-decoration-color: #7f7f7f\">│   │   </span><span style=\"color: #0000ff; text-decoration-color: #0000ff\">return</span>                                                                            <span style=\"color: #800000; text-decoration-color: #800000\">│</span>\n",
       "<span style=\"color: #800000; text-decoration-color: #800000\">│</span>   <span style=\"color: #7f7f7f; text-decoration-color: #7f7f7f\"> 119 </span><span style=\"color: #7f7f7f; text-decoration-color: #7f7f7f\">│   </span>                                                                                      <span style=\"color: #800000; text-decoration-color: #800000\">│</span>\n",
       "<span style=\"color: #800000; text-decoration-color: #800000\">│</span> <span style=\"color: #800000; text-decoration-color: #800000\">❱ </span> 120 <span style=\"color: #7f7f7f; text-decoration-color: #7f7f7f\">│   </span>_assert_all_finite_element_wise(                                                      <span style=\"color: #800000; text-decoration-color: #800000\">│</span>\n",
       "<span style=\"color: #800000; text-decoration-color: #800000\">│</span>   <span style=\"color: #7f7f7f; text-decoration-color: #7f7f7f\"> 121 </span><span style=\"color: #7f7f7f; text-decoration-color: #7f7f7f\">│   │   </span>X,                                                                                <span style=\"color: #800000; text-decoration-color: #800000\">│</span>\n",
       "<span style=\"color: #800000; text-decoration-color: #800000\">│</span>   <span style=\"color: #7f7f7f; text-decoration-color: #7f7f7f\"> 122 </span><span style=\"color: #7f7f7f; text-decoration-color: #7f7f7f\">│   │   </span>xp=xp,                                                                            <span style=\"color: #800000; text-decoration-color: #800000\">│</span>\n",
       "<span style=\"color: #800000; text-decoration-color: #800000\">│</span>   <span style=\"color: #7f7f7f; text-decoration-color: #7f7f7f\"> 123 </span><span style=\"color: #7f7f7f; text-decoration-color: #7f7f7f\">│   │   </span>allow_nan=allow_nan,                                                              <span style=\"color: #800000; text-decoration-color: #800000\">│</span>\n",
       "<span style=\"color: #800000; text-decoration-color: #800000\">│</span>                                                                                                  <span style=\"color: #800000; text-decoration-color: #800000\">│</span>\n",
       "<span style=\"color: #800000; text-decoration-color: #800000\">│</span> <span style=\"color: #bfbf7f; text-decoration-color: #bfbf7f\">/home/lonk/micromamba/envs/thesis/lib/python3.12/site-packages/sklearn/utils/</span><span style=\"color: #808000; text-decoration-color: #808000; font-weight: bold\">validation.py</span>:<span style=\"color: #0000ff; text-decoration-color: #0000ff\">169</span>   <span style=\"color: #800000; text-decoration-color: #800000\">│</span>\n",
       "<span style=\"color: #800000; text-decoration-color: #800000\">│</span> in <span style=\"color: #00ff00; text-decoration-color: #00ff00\">_assert_all_finite_element_wise</span>                                                               <span style=\"color: #800000; text-decoration-color: #800000\">│</span>\n",
       "<span style=\"color: #800000; text-decoration-color: #800000\">│</span>                                                                                                  <span style=\"color: #800000; text-decoration-color: #800000\">│</span>\n",
       "<span style=\"color: #800000; text-decoration-color: #800000\">│</span>   <span style=\"color: #7f7f7f; text-decoration-color: #7f7f7f\"> 166 </span><span style=\"color: #7f7f7f; text-decoration-color: #7f7f7f\">│   │   │   │   </span><span style=\"color: #808000; text-decoration-color: #808000\">\" https://scikit-learn.org/stable/modules/impute.html\"</span>                    <span style=\"color: #800000; text-decoration-color: #800000\">│</span>\n",
       "<span style=\"color: #800000; text-decoration-color: #800000\">│</span>   <span style=\"color: #7f7f7f; text-decoration-color: #7f7f7f\"> 167 </span><span style=\"color: #7f7f7f; text-decoration-color: #7f7f7f\">│   │   │   │   </span><span style=\"color: #808000; text-decoration-color: #808000\">\"#estimators-that-handle-nan-values\"</span>                                      <span style=\"color: #800000; text-decoration-color: #800000\">│</span>\n",
       "<span style=\"color: #800000; text-decoration-color: #800000\">│</span>   <span style=\"color: #7f7f7f; text-decoration-color: #7f7f7f\"> 168 </span><span style=\"color: #7f7f7f; text-decoration-color: #7f7f7f\">│   │   │   </span>)                                                                             <span style=\"color: #800000; text-decoration-color: #800000\">│</span>\n",
       "<span style=\"color: #800000; text-decoration-color: #800000\">│</span> <span style=\"color: #800000; text-decoration-color: #800000\">❱ </span> 169 <span style=\"color: #7f7f7f; text-decoration-color: #7f7f7f\">│   │   </span><span style=\"color: #0000ff; text-decoration-color: #0000ff; font-weight: bold; text-decoration: underline\">raise</span><span style=\"font-weight: bold; text-decoration: underline\"> </span><span style=\"color: #00ffff; text-decoration-color: #00ffff; font-weight: bold; text-decoration: underline\">ValueError</span><span style=\"font-weight: bold; text-decoration: underline\">(msg_err)</span>                                                         <span style=\"color: #800000; text-decoration-color: #800000\">│</span>\n",
       "<span style=\"color: #800000; text-decoration-color: #800000\">│</span>   <span style=\"color: #7f7f7f; text-decoration-color: #7f7f7f\"> 170 </span>                                                                                          <span style=\"color: #800000; text-decoration-color: #800000\">│</span>\n",
       "<span style=\"color: #800000; text-decoration-color: #800000\">│</span>   <span style=\"color: #7f7f7f; text-decoration-color: #7f7f7f\"> 171 </span>                                                                                          <span style=\"color: #800000; text-decoration-color: #800000\">│</span>\n",
       "<span style=\"color: #800000; text-decoration-color: #800000\">│</span>   <span style=\"color: #7f7f7f; text-decoration-color: #7f7f7f\"> 172 </span><span style=\"color: #0000ff; text-decoration-color: #0000ff\">def</span><span style=\"color: #808080; text-decoration-color: #808080\"> </span><span style=\"color: #00ff00; text-decoration-color: #00ff00\">assert_all_finite</span>(                                                                    <span style=\"color: #800000; text-decoration-color: #800000\">│</span>\n",
       "<span style=\"color: #800000; text-decoration-color: #800000\">╰──────────────────────────────────────────────────────────────────────────────────────────────────╯</span>\n",
       "<span style=\"color: #ff0000; text-decoration-color: #ff0000; font-weight: bold\">ValueError: </span>Input X contains NaN.\n",
       "KMeans does not accept missing values encoded as NaN natively. For supervised learning, you might want to consider \n",
       "sklearn.ensemble.HistGradientBoostingClassifier and Regressor which accept missing values encoded as NaNs natively.\n",
       "Alternatively, it is possible to preprocess the data, for instance by using an imputer transformer in a pipeline or\n",
       "drop samples with missing values. See <span style=\"color: #0000ff; text-decoration-color: #0000ff; text-decoration: underline\">https://scikit-learn.org/stable/modules/impute.html</span> You can find a list of \n",
       "all estimators that handle NaN values at the following page: \n",
       "<span style=\"color: #0000ff; text-decoration-color: #0000ff; text-decoration: underline\">https://scikit-learn.org/stable/modules/impute.html#estimators-that-handle-nan-values</span>\n",
       "</pre>\n"
      ],
      "text/plain": [
       "\u001b[31m╭─\u001b[0m\u001b[31m──────────────────────────────\u001b[0m\u001b[31m \u001b[0m\u001b[1;31mTraceback \u001b[0m\u001b[1;2;31m(most recent call last)\u001b[0m\u001b[31m \u001b[0m\u001b[31m───────────────────────────────\u001b[0m\u001b[31m─╮\u001b[0m\n",
       "\u001b[31m│\u001b[0m in \u001b[92m<module>\u001b[0m:\u001b[94m216\u001b[0m                                                                                  \u001b[31m│\u001b[0m\n",
       "\u001b[31m│\u001b[0m                                                                                                  \u001b[31m│\u001b[0m\n",
       "\u001b[31m│\u001b[0m   \u001b[2m213 \u001b[0mmodel = TextUMC().to(device)                                                               \u001b[31m│\u001b[0m\n",
       "\u001b[31m│\u001b[0m   \u001b[2m214 \u001b[0m                                                                                           \u001b[31m│\u001b[0m\n",
       "\u001b[31m│\u001b[0m   \u001b[2m215 \u001b[0m\u001b[2m# Train model\u001b[0m                                                                              \u001b[31m│\u001b[0m\n",
       "\u001b[31m│\u001b[0m \u001b[31m❱ \u001b[0m216 trained_evidences, metrics = umc_train(                                                    \u001b[31m│\u001b[0m\n",
       "\u001b[31m│\u001b[0m   \u001b[2m217 \u001b[0m\u001b[2m│   \u001b[0mmodel=model,                                                                           \u001b[31m│\u001b[0m\n",
       "\u001b[31m│\u001b[0m   \u001b[2m218 \u001b[0m\u001b[2m│   \u001b[0mevidences=example_claim.evidences,                                                     \u001b[31m│\u001b[0m\n",
       "\u001b[31m│\u001b[0m   \u001b[2m219 \u001b[0m\u001b[2m│   \u001b[0mnum_clusters=\u001b[96mmin\u001b[0m(\u001b[96mlen\u001b[0m(example_claim.evidences), \u001b[94m5\u001b[0m),                                     \u001b[31m│\u001b[0m\n",
       "\u001b[31m│\u001b[0m                                                                                                  \u001b[31m│\u001b[0m\n",
       "\u001b[31m│\u001b[0m in \u001b[92mumc_train\u001b[0m:\u001b[94m193\u001b[0m                                                                                 \u001b[31m│\u001b[0m\n",
       "\u001b[31m│\u001b[0m                                                                                                  \u001b[31m│\u001b[0m\n",
       "\u001b[31m│\u001b[0m   \u001b[2m190 \u001b[0m\u001b[2m│   │   │   \u001b[0membeddings = model(batch_texts)                                                \u001b[31m│\u001b[0m\n",
       "\u001b[31m│\u001b[0m   \u001b[2m191 \u001b[0m\u001b[2m│   │   │   \u001b[0m                                                                               \u001b[31m│\u001b[0m\n",
       "\u001b[31m│\u001b[0m   \u001b[2m192 \u001b[0m\u001b[2m│   │   │   \u001b[0m\u001b[2m# Get cluster assignments\u001b[0m                                                      \u001b[31m│\u001b[0m\n",
       "\u001b[31m│\u001b[0m \u001b[31m❱ \u001b[0m193 \u001b[2m│   │   │   \u001b[0m_, pseudo_labels, current_centroids = \u001b[1;4mcluster_and_select_samples(\u001b[0m              \u001b[31m│\u001b[0m\n",
       "\u001b[31m│\u001b[0m   \u001b[2m194 \u001b[0m\u001b[1;2;4m│   │   │   │   \u001b[0m\u001b[1;4membeddings, num_clusters, \u001b[0m\u001b[1;4;94m0.5\u001b[0m\u001b[1;4m, current_centroids, model.device\u001b[0m             \u001b[31m│\u001b[0m\n",
       "\u001b[31m│\u001b[0m   \u001b[2m195 \u001b[0m\u001b[1;2;4m│   │   │   \u001b[0m\u001b[1;4m)\u001b[0m                                                                              \u001b[31m│\u001b[0m\n",
       "\u001b[31m│\u001b[0m   \u001b[2m196 \u001b[0m                                                                                           \u001b[31m│\u001b[0m\n",
       "\u001b[31m│\u001b[0m                                                                                                  \u001b[31m│\u001b[0m\n",
       "\u001b[31m│\u001b[0m in \u001b[92mcluster_and_select_samples\u001b[0m:\u001b[94m21\u001b[0m                                                                 \u001b[31m│\u001b[0m\n",
       "\u001b[31m│\u001b[0m                                                                                                  \u001b[31m│\u001b[0m\n",
       "\u001b[31m│\u001b[0m   \u001b[2m 18 \u001b[0m\u001b[2m│   │   \u001b[0mn_init=\u001b[94m5\u001b[0m,                                                                          \u001b[31m│\u001b[0m\n",
       "\u001b[31m│\u001b[0m   \u001b[2m 19 \u001b[0m\u001b[2m│   │   \u001b[0mmax_iter=\u001b[94m200\u001b[0m,                                                                      \u001b[31m│\u001b[0m\n",
       "\u001b[31m│\u001b[0m   \u001b[2m 20 \u001b[0m\u001b[2m│   \u001b[0m)                                                                                      \u001b[31m│\u001b[0m\n",
       "\u001b[31m│\u001b[0m \u001b[31m❱ \u001b[0m 21 \u001b[2m│   \u001b[0m\u001b[1;4mkmeans.fit(embeddings.detach().cpu().numpy())\u001b[0m                                          \u001b[31m│\u001b[0m\n",
       "\u001b[31m│\u001b[0m   \u001b[2m 22 \u001b[0m\u001b[2m│   \u001b[0mcluster_labels = kmeans.labels_                                                        \u001b[31m│\u001b[0m\n",
       "\u001b[31m│\u001b[0m   \u001b[2m 23 \u001b[0m\u001b[2m│   \u001b[0mnew_centroids = kmeans.cluster_centers_                                                \u001b[31m│\u001b[0m\n",
       "\u001b[31m│\u001b[0m   \u001b[2m 24 \u001b[0m                                                                                           \u001b[31m│\u001b[0m\n",
       "\u001b[31m│\u001b[0m                                                                                                  \u001b[31m│\u001b[0m\n",
       "\u001b[31m│\u001b[0m \u001b[2;33m/home/lonk/micromamba/envs/thesis/lib/python3.12/site-packages/sklearn/\u001b[0m\u001b[1;33mbase.py\u001b[0m:\u001b[94m1389\u001b[0m in \u001b[92mwrapper\u001b[0m   \u001b[31m│\u001b[0m\n",
       "\u001b[31m│\u001b[0m                                                                                                  \u001b[31m│\u001b[0m\n",
       "\u001b[31m│\u001b[0m   \u001b[2m1386 \u001b[0m\u001b[2m│   │   │   │   │   \u001b[0mprefer_skip_nested_validation \u001b[95mor\u001b[0m global_skip_validation               \u001b[31m│\u001b[0m\n",
       "\u001b[31m│\u001b[0m   \u001b[2m1387 \u001b[0m\u001b[2m│   │   │   │   \u001b[0m)                                                                         \u001b[31m│\u001b[0m\n",
       "\u001b[31m│\u001b[0m   \u001b[2m1388 \u001b[0m\u001b[2m│   │   │   \u001b[0m):                                                                            \u001b[31m│\u001b[0m\n",
       "\u001b[31m│\u001b[0m \u001b[31m❱ \u001b[0m1389 \u001b[2m│   │   │   │   \u001b[0m\u001b[94mreturn\u001b[0m \u001b[1;4mfit_method(estimator, *args, **kwargs)\u001b[0m                             \u001b[31m│\u001b[0m\n",
       "\u001b[31m│\u001b[0m   \u001b[2m1390 \u001b[0m\u001b[2m│   │   \u001b[0m                                                                                  \u001b[31m│\u001b[0m\n",
       "\u001b[31m│\u001b[0m   \u001b[2m1391 \u001b[0m\u001b[2m│   │   \u001b[0m\u001b[94mreturn\u001b[0m wrapper                                                                    \u001b[31m│\u001b[0m\n",
       "\u001b[31m│\u001b[0m   \u001b[2m1392 \u001b[0m                                                                                          \u001b[31m│\u001b[0m\n",
       "\u001b[31m│\u001b[0m                                                                                                  \u001b[31m│\u001b[0m\n",
       "\u001b[31m│\u001b[0m \u001b[2;33m/home/lonk/micromamba/envs/thesis/lib/python3.12/site-packages/sklearn/cluster/\u001b[0m\u001b[1;33m_kmeans.py\u001b[0m:\u001b[94m1446\u001b[0m   \u001b[31m│\u001b[0m\n",
       "\u001b[31m│\u001b[0m in \u001b[92mfit\u001b[0m                                                                                           \u001b[31m│\u001b[0m\n",
       "\u001b[31m│\u001b[0m                                                                                                  \u001b[31m│\u001b[0m\n",
       "\u001b[31m│\u001b[0m   \u001b[2m1443 \u001b[0m\u001b[2;33m│   │   \u001b[0m\u001b[33mself : object\u001b[0m                                                                     \u001b[31m│\u001b[0m\n",
       "\u001b[31m│\u001b[0m   \u001b[2m1444 \u001b[0m\u001b[2;33m│   │   │   \u001b[0m\u001b[33mFitted estimator.\u001b[0m                                                             \u001b[31m│\u001b[0m\n",
       "\u001b[31m│\u001b[0m   \u001b[2m1445 \u001b[0m\u001b[2;33m│   │   \u001b[0m\u001b[33m\"\"\"\u001b[0m                                                                               \u001b[31m│\u001b[0m\n",
       "\u001b[31m│\u001b[0m \u001b[31m❱ \u001b[0m1446 \u001b[2m│   │   \u001b[0mX = validate_data(                                                                \u001b[31m│\u001b[0m\n",
       "\u001b[31m│\u001b[0m   \u001b[2m1447 \u001b[0m\u001b[2m│   │   │   \u001b[0m\u001b[96mself\u001b[0m,                                                                         \u001b[31m│\u001b[0m\n",
       "\u001b[31m│\u001b[0m   \u001b[2m1448 \u001b[0m\u001b[2m│   │   │   \u001b[0mX,                                                                            \u001b[31m│\u001b[0m\n",
       "\u001b[31m│\u001b[0m   \u001b[2m1449 \u001b[0m\u001b[2m│   │   │   \u001b[0maccept_sparse=\u001b[33m\"\u001b[0m\u001b[33mcsr\u001b[0m\u001b[33m\"\u001b[0m,                                                          \u001b[31m│\u001b[0m\n",
       "\u001b[31m│\u001b[0m                                                                                                  \u001b[31m│\u001b[0m\n",
       "\u001b[31m│\u001b[0m \u001b[2;33m/home/lonk/micromamba/envs/thesis/lib/python3.12/site-packages/sklearn/utils/\u001b[0m\u001b[1;33mvalidation.py\u001b[0m:\u001b[94m2944\u001b[0m  \u001b[31m│\u001b[0m\n",
       "\u001b[31m│\u001b[0m in \u001b[92mvalidate_data\u001b[0m                                                                                 \u001b[31m│\u001b[0m\n",
       "\u001b[31m│\u001b[0m                                                                                                  \u001b[31m│\u001b[0m\n",
       "\u001b[31m│\u001b[0m   \u001b[2m2941 \u001b[0m\u001b[2m│   │   \u001b[0m\u001b[94melse\u001b[0m:                                                                             \u001b[31m│\u001b[0m\n",
       "\u001b[31m│\u001b[0m   \u001b[2m2942 \u001b[0m\u001b[2m│   │   │   \u001b[0mout = X, y                                                                    \u001b[31m│\u001b[0m\n",
       "\u001b[31m│\u001b[0m   \u001b[2m2943 \u001b[0m\u001b[2m│   \u001b[0m\u001b[94melif\u001b[0m \u001b[95mnot\u001b[0m no_val_X \u001b[95mand\u001b[0m no_val_y:                                                       \u001b[31m│\u001b[0m\n",
       "\u001b[31m│\u001b[0m \u001b[31m❱ \u001b[0m2944 \u001b[2m│   │   \u001b[0mout = \u001b[1;4mcheck_array(X, input_name=\u001b[0m\u001b[1;4;33m\"\u001b[0m\u001b[1;4;33mX\u001b[0m\u001b[1;4;33m\"\u001b[0m\u001b[1;4m, **check_params)\u001b[0m                              \u001b[31m│\u001b[0m\n",
       "\u001b[31m│\u001b[0m   \u001b[2m2945 \u001b[0m\u001b[2m│   \u001b[0m\u001b[94melif\u001b[0m no_val_X \u001b[95mand\u001b[0m \u001b[95mnot\u001b[0m no_val_y:                                                       \u001b[31m│\u001b[0m\n",
       "\u001b[31m│\u001b[0m   \u001b[2m2946 \u001b[0m\u001b[2m│   │   \u001b[0mout = _check_y(y, **check_params)                                                 \u001b[31m│\u001b[0m\n",
       "\u001b[31m│\u001b[0m   \u001b[2m2947 \u001b[0m\u001b[2m│   \u001b[0m\u001b[94melse\u001b[0m:                                                                                 \u001b[31m│\u001b[0m\n",
       "\u001b[31m│\u001b[0m                                                                                                  \u001b[31m│\u001b[0m\n",
       "\u001b[31m│\u001b[0m \u001b[2;33m/home/lonk/micromamba/envs/thesis/lib/python3.12/site-packages/sklearn/utils/\u001b[0m\u001b[1;33mvalidation.py\u001b[0m:\u001b[94m1107\u001b[0m  \u001b[31m│\u001b[0m\n",
       "\u001b[31m│\u001b[0m in \u001b[92mcheck_array\u001b[0m                                                                                   \u001b[31m│\u001b[0m\n",
       "\u001b[31m│\u001b[0m                                                                                                  \u001b[31m│\u001b[0m\n",
       "\u001b[31m│\u001b[0m   \u001b[2m1104 \u001b[0m\u001b[2m│   │   │   \u001b[0m)                                                                             \u001b[31m│\u001b[0m\n",
       "\u001b[31m│\u001b[0m   \u001b[2m1105 \u001b[0m\u001b[2m│   │   \u001b[0m                                                                                  \u001b[31m│\u001b[0m\n",
       "\u001b[31m│\u001b[0m   \u001b[2m1106 \u001b[0m\u001b[2m│   │   \u001b[0m\u001b[94mif\u001b[0m ensure_all_finite:                                                             \u001b[31m│\u001b[0m\n",
       "\u001b[31m│\u001b[0m \u001b[31m❱ \u001b[0m1107 \u001b[2m│   │   │   \u001b[0m_assert_all_finite(                                                           \u001b[31m│\u001b[0m\n",
       "\u001b[31m│\u001b[0m   \u001b[2m1108 \u001b[0m\u001b[2m│   │   │   │   \u001b[0marray,                                                                    \u001b[31m│\u001b[0m\n",
       "\u001b[31m│\u001b[0m   \u001b[2m1109 \u001b[0m\u001b[2m│   │   │   │   \u001b[0minput_name=input_name,                                                    \u001b[31m│\u001b[0m\n",
       "\u001b[31m│\u001b[0m   \u001b[2m1110 \u001b[0m\u001b[2m│   │   │   │   \u001b[0mestimator_name=estimator_name,                                            \u001b[31m│\u001b[0m\n",
       "\u001b[31m│\u001b[0m                                                                                                  \u001b[31m│\u001b[0m\n",
       "\u001b[31m│\u001b[0m \u001b[2;33m/home/lonk/micromamba/envs/thesis/lib/python3.12/site-packages/sklearn/utils/\u001b[0m\u001b[1;33mvalidation.py\u001b[0m:\u001b[94m120\u001b[0m   \u001b[31m│\u001b[0m\n",
       "\u001b[31m│\u001b[0m in \u001b[92m_assert_all_finite\u001b[0m                                                                            \u001b[31m│\u001b[0m\n",
       "\u001b[31m│\u001b[0m                                                                                                  \u001b[31m│\u001b[0m\n",
       "\u001b[31m│\u001b[0m   \u001b[2m 117 \u001b[0m\u001b[2m│   \u001b[0m\u001b[94mif\u001b[0m first_pass_isfinite:                                                               \u001b[31m│\u001b[0m\n",
       "\u001b[31m│\u001b[0m   \u001b[2m 118 \u001b[0m\u001b[2m│   │   \u001b[0m\u001b[94mreturn\u001b[0m                                                                            \u001b[31m│\u001b[0m\n",
       "\u001b[31m│\u001b[0m   \u001b[2m 119 \u001b[0m\u001b[2m│   \u001b[0m                                                                                      \u001b[31m│\u001b[0m\n",
       "\u001b[31m│\u001b[0m \u001b[31m❱ \u001b[0m 120 \u001b[2m│   \u001b[0m_assert_all_finite_element_wise(                                                      \u001b[31m│\u001b[0m\n",
       "\u001b[31m│\u001b[0m   \u001b[2m 121 \u001b[0m\u001b[2m│   │   \u001b[0mX,                                                                                \u001b[31m│\u001b[0m\n",
       "\u001b[31m│\u001b[0m   \u001b[2m 122 \u001b[0m\u001b[2m│   │   \u001b[0mxp=xp,                                                                            \u001b[31m│\u001b[0m\n",
       "\u001b[31m│\u001b[0m   \u001b[2m 123 \u001b[0m\u001b[2m│   │   \u001b[0mallow_nan=allow_nan,                                                              \u001b[31m│\u001b[0m\n",
       "\u001b[31m│\u001b[0m                                                                                                  \u001b[31m│\u001b[0m\n",
       "\u001b[31m│\u001b[0m \u001b[2;33m/home/lonk/micromamba/envs/thesis/lib/python3.12/site-packages/sklearn/utils/\u001b[0m\u001b[1;33mvalidation.py\u001b[0m:\u001b[94m169\u001b[0m   \u001b[31m│\u001b[0m\n",
       "\u001b[31m│\u001b[0m in \u001b[92m_assert_all_finite_element_wise\u001b[0m                                                               \u001b[31m│\u001b[0m\n",
       "\u001b[31m│\u001b[0m                                                                                                  \u001b[31m│\u001b[0m\n",
       "\u001b[31m│\u001b[0m   \u001b[2m 166 \u001b[0m\u001b[2m│   │   │   │   \u001b[0m\u001b[33m\"\u001b[0m\u001b[33m https://scikit-learn.org/stable/modules/impute.html\u001b[0m\u001b[33m\"\u001b[0m                    \u001b[31m│\u001b[0m\n",
       "\u001b[31m│\u001b[0m   \u001b[2m 167 \u001b[0m\u001b[2m│   │   │   │   \u001b[0m\u001b[33m\"\u001b[0m\u001b[33m#estimators-that-handle-nan-values\u001b[0m\u001b[33m\"\u001b[0m                                      \u001b[31m│\u001b[0m\n",
       "\u001b[31m│\u001b[0m   \u001b[2m 168 \u001b[0m\u001b[2m│   │   │   \u001b[0m)                                                                             \u001b[31m│\u001b[0m\n",
       "\u001b[31m│\u001b[0m \u001b[31m❱ \u001b[0m 169 \u001b[2m│   │   \u001b[0m\u001b[1;4;94mraise\u001b[0m\u001b[1;4m \u001b[0m\u001b[1;4;96mValueError\u001b[0m\u001b[1;4m(msg_err)\u001b[0m                                                         \u001b[31m│\u001b[0m\n",
       "\u001b[31m│\u001b[0m   \u001b[2m 170 \u001b[0m                                                                                          \u001b[31m│\u001b[0m\n",
       "\u001b[31m│\u001b[0m   \u001b[2m 171 \u001b[0m                                                                                          \u001b[31m│\u001b[0m\n",
       "\u001b[31m│\u001b[0m   \u001b[2m 172 \u001b[0m\u001b[94mdef\u001b[0m\u001b[90m \u001b[0m\u001b[92massert_all_finite\u001b[0m(                                                                    \u001b[31m│\u001b[0m\n",
       "\u001b[31m╰──────────────────────────────────────────────────────────────────────────────────────────────────╯\u001b[0m\n",
       "\u001b[1;91mValueError: \u001b[0mInput X contains NaN.\n",
       "KMeans does not accept missing values encoded as NaN natively. For supervised learning, you might want to consider \n",
       "sklearn.ensemble.HistGradientBoostingClassifier and Regressor which accept missing values encoded as NaNs natively.\n",
       "Alternatively, it is possible to preprocess the data, for instance by using an imputer transformer in a pipeline or\n",
       "drop samples with missing values. See \u001b[4;94mhttps://scikit-learn.org/stable/modules/impute.html\u001b[0m You can find a list of \n",
       "all estimators that handle NaN values at the following page: \n",
       "\u001b[4;94mhttps://scikit-learn.org/stable/modules/impute.html#estimators-that-handle-nan-values\u001b[0m\n"
      ]
     },
     "metadata": {},
     "output_type": "display_data"
    }
   ],
   "source": [
    "# Cell 4 - Clustering and Visualization\n",
    "# Get evidence embeddings\n",
    "evidence_texts = [ev.content for ev in example_claim.evidences]\n",
    "with torch.no_grad():\n",
    "    evidence_embeddings = model(evidence_texts)\n",
    "    evidence_embeddings_np = evidence_embeddings.cpu().numpy()\n",
    "\n",
    "# Cluster evidences\n",
    "n_clusters = min(len(evidence_texts), 5)\n",
    "kmeans = KMeans(n_clusters=n_clusters, random_state=42)\n",
    "cluster_labels = kmeans.fit_predict(evidence_embeddings_np)\n",
    "\n",
    "# Print clusters\n",
    "print_evidence_clusters(example_claim, cluster_labels)\n",
    "\n",
    "# Group evidences\n",
    "example_claim.clustered_evidences = {\n",
    "    i: [ev for ev, label in zip(example_claim.evidences, cluster_labels) if label == i]\n",
    "    for i in range(n_clusters)\n",
    "}\n",
    "\n",
    "# Visualize clusters\n",
    "visualize_clusters(\n",
    "    evidence_embeddings_np,\n",
    "    cluster_labels,\n",
    "    f\"Evidence Clusters for Claim {example_claim.claim_id}\",\n",
    "    \"evidence_clusters.png\"\n",
    ")"
   ]
  },
  {
   "cell_type": "markdown",
   "metadata": {},
   "source": [
    "# Clustering and Visualization\n",
    "Implement functions for clustering embeddings, visualizing clusters with PCA, and displaying results using rich tables."
   ]
  },
  {
   "cell_type": "code",
   "execution_count": null,
   "metadata": {},
   "outputs": [],
   "source": [
    "# Clustering and Visualization\n",
    "\n",
    "# Function to cluster claims\n",
    "def cluster_claims(claims, num_clusters, random_state=42):\n",
    "    \"\"\"Clusters the claims using the trained model.\n",
    "\n",
    "    Args:\n",
    "        claims (List[Claim]): List of Claim objects.\n",
    "        num_clusters (int): Number of clusters.\n",
    "\n",
    "    Returns:\n",
    "        List[Claim]: Claims with assigned cluster labels.\n",
    "    \"\"\"\n",
    "    all_embeddings = np.array(\n",
    "        [claim.embedding for claim in claims]\n",
    "    )  # Extract all of the embeddings\n",
    "    kmeans = KMeans(\n",
    "        n_clusters=num_clusters, random_state=random_state, n_init=10\n",
    "    )  # Perform K-Means using embeddings.\n",
    "    kmeans.fit(all_embeddings)\n",
    "    cluster_labels = kmeans.labels_  # Extract the cluster labels.\n",
    "\n",
    "    for i, claim in enumerate(claims):\n",
    "        claim_cluster = cluster_labels[i]\n",
    "        if claim.clustered_evidences is None:\n",
    "            claim.clustered_evidences = {}\n",
    "        if claim_cluster not in claim.clustered_evidences:\n",
    "            claim.clustered_evidences[claim_cluster] = []\n",
    "        claim.clustered_evidences[claim_cluster].extend(\n",
    "            claim.evidences\n",
    "        )  # assign cluster to the evidences\n",
    "\n",
    "    return claims\n",
    "\n",
    "# Function to visualize clusters\n",
    "def visualize_clusters(embeddings: np.ndarray, labels: np.ndarray, title: str, save_path: str):\n",
    "    \"\"\"Plot clusters using PCA for dimensionality reduction\"\"\"\n",
    "    # Reduce to 2D for visualization\n",
    "    pca = PCA(n_components=2)\n",
    "    reduced_embeddings = pca.fit_transform(embeddings)\n",
    "\n",
    "    # Create scatter plot\n",
    "    plt.figure(figsize=(10, 8))\n",
    "    scatter = plt.scatter(\n",
    "        reduced_embeddings[:, 0], reduced_embeddings[:, 1], c=labels, cmap=\"viridis\"\n",
    "    )\n",
    "    plt.colorbar(scatter)\n",
    "    plt.title(title)\n",
    "    plt.xlabel(\"First Principal Component\")\n",
    "    plt.ylabel(\"Second Principal Component\")\n",
    "    plt.savefig(save_path)\n",
    "    plt.close()\n",
    "\n",
    "# Function to print evidence clusters\n",
    "def print_evidence_clusters(claim: Claim, cluster_labels: np.ndarray):\n",
    "    \"\"\"Display evidence clusters in a readable format\"\"\"\n",
    "    table = Table(title=f\"Evidence Clusters for Claim: {claim.claim_id}\")\n",
    "    table.add_column(\"Cluster\", justify=\"center\", style=\"cyan\")\n",
    "    table.add_column(\"Evidence Content\", justify=\"left\", style=\"green\")\n",
    "\n",
    "    for cluster_id in range(max(cluster_labels) + 1):\n",
    "        # Get evidences for this cluster\n",
    "        cluster_evidences = [\n",
    "            ev\n",
    "            for ev, label in zip(claim.evidences, cluster_labels)\n",
    "            if label == cluster_id\n",
    "        ]\n",
    "\n",
    "        # Add row for each evidence in cluster\n",
    "        for idx, evidence in enumerate(cluster_evidences):\n",
    "            # Truncate content for readability\n",
    "            content = (\n",
    "                evidence.content[:100] + \"...\"\n",
    "                if len(evidence.content) > 100\n",
    "                else evidence.content\n",
    "            )\n",
    "            table.add_row(f\"Cluster {cluster_id}\" if idx == 0 else \"\", content)\n",
    "        # Add separator between clusters\n",
    "        table.add_row(\"\", \"\")\n",
    "\n",
    "    console.print(table)\n",
    "\n",
    "# Get evidence embeddings\n",
    "evidence_texts = [ev.content for ev in example_claim.evidences]\n",
    "with torch.no_grad():\n",
    "    evidence_embeddings = model(evidence_texts)\n",
    "    evidence_embeddings_np = evidence_embeddings.cpu().numpy()\n",
    "\n",
    "# Cluster evidences\n",
    "n_clusters = min(len(evidence_texts), 5)\n",
    "kmeans = KMeans(n_clusters=n_clusters, random_state=42)\n",
    "cluster_labels = kmeans.fit_predict(evidence_embeddings_np)\n",
    "\n",
    "# Print clusters\n",
    "print_evidence_clusters(example_claim, cluster_labels)\n",
    "\n",
    "# Group evidences\n",
    "example_claim.clustered_evidences = {\n",
    "    i: [\n",
    "        ev\n",
    "        for ev, label in zip(example_claim.evidences, cluster_labels)\n",
    "        if label == i\n",
    "    ]\n",
    "    for i in range(n_clusters)\n",
    "}\n",
    "\n",
    "# Visualize clusters\n",
    "plot_path = \"evidence_clusters.png\"\n",
    "visualize_clusters(\n",
    "    evidence_embeddings_np,\n",
    "    cluster_labels,\n",
    "    f\"Evidence Clusters for Claim {example_claim.claim_id}\",\n",
    "    plot_path,\n",
    ")"
   ]
  }
 ],
 "metadata": {
  "kernelspec": {
   "display_name": "thesis",
   "language": "python",
   "name": "python3"
  },
  "language_info": {
   "codemirror_mode": {
    "name": "ipython",
    "version": 3
   },
   "file_extension": ".py",
   "mimetype": "text/x-python",
   "name": "python",
   "nbconvert_exporter": "python",
   "pygments_lexer": "ipython3",
   "version": "3.12.8"
  }
 },
 "nbformat": 4,
 "nbformat_minor": 2
}
