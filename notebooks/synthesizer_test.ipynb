{
 "cells": [
  {
   "cell_type": "markdown",
   "metadata": {},
   "source": [
    "# Import and prepare reports and claims"
   ]
  },
  {
   "cell_type": "code",
   "execution_count": 1,
   "metadata": {},
   "outputs": [],
   "source": [
    "from transformers import AutoModelForCausalLM, AutoTokenizer, AutoModelForSequenceClassification\n",
    "import torch\n",
    "\n",
    "claim = \"The earth is flat.\"\n",
    "\n",
    "# Generate some random reports\n",
    "reports = \"\"\"\n",
    "Report 1:\n",
    "\"The Flat Earth Society continues to argue that the Earth is a flat disk, emphasizing that the horizon always appears level, regardless of altitude. Their members cite videos and photos taken at high altitudes, claiming no curvature is visible.\"\n",
    "\n",
    "Report 2:\n",
    "\"Recent satellite imagery and GPS technology rely on the Earth's spherical shape to function accurately. Scientists point to these systems as definitive evidence of Earth's roundness, highlighting that flat models cannot explain global positioning.\"\n",
    "\n",
    "Report 3:\n",
    "\"In a recent poll, 2% of respondents claimed they believe the Earth is flat, with many attributing their views to skepticism of mainstream science. However, the majority, 88%, affirmed the Earth is round, citing educational materials and personal observations.\"\n",
    "\n",
    "Report 4:\n",
    "\"The documentary 'Behind the Curve' follows several Flat Earth advocates, documenting experiments they conducted to prove their claims. Ironically, many of their tests yielded results consistent with a spherical Earth, sparking debates among their community.\"\n",
    "\"\"\""
   ]
  },
  {
   "cell_type": "markdown",
   "metadata": {},
   "source": [
    "# Import and run synthesizer"
   ]
  },
  {
   "cell_type": "code",
   "execution_count": 6,
   "metadata": {},
   "outputs": [
    {
     "data": {
      "application/vnd.jupyter.widget-view+json": {
       "model_id": "9ba0604052674e94aa63ee42581b9f20",
       "version_major": 2,
       "version_minor": 0
      },
      "text/plain": [
       "Loading checkpoint shards:   0%|          | 0/2 [00:00<?, ?it/s]"
      ]
     },
     "metadata": {},
     "output_type": "display_data"
    },
    {
     "data": {
      "application/vnd.jupyter.widget-view+json": {
       "model_id": "227fd33202304533874c9bd306e2553b",
       "version_major": 2,
       "version_minor": 0
      },
      "text/plain": [
       "Loading checkpoint shards:   0%|          | 0/2 [00:00<?, ?it/s]"
      ]
     },
     "metadata": {},
     "output_type": "display_data"
    }
   ],
   "source": [
    "import sys\n",
    "\n",
    "sys.path.append('../') # This is to add the root directory to the path in order to import the synthesizer module\n",
    "\n",
    "from source import synthesizer\n",
    "synthesizer = synthesizer.Synthesizer()"
   ]
  },
  {
   "cell_type": "code",
   "execution_count": null,
   "metadata": {},
   "outputs": [
    {
     "name": "stderr",
     "output_type": "stream",
     "text": [
      "Token indices sequence length is longer than the specified maximum sequence length for this model (2193 > 2048). Running this sequence through the model will result in indexing errors\n"
     ]
    }
   ],
   "source": [
    "response = synthesizer.synthesize(claim=claim, reports=reports)"
   ]
  },
  {
   "cell_type": "code",
   "execution_count": null,
   "metadata": {},
   "outputs": [],
   "source": [
    "from source import llm\n",
    "\n",
    "classifier = llm.FakeNewsClassifier()\n",
    "\n",
    "print(classifier.classify(response))"
   ]
  }
 ],
 "metadata": {
  "kernelspec": {
   "display_name": "thesis",
   "language": "python",
   "name": "python3"
  },
  "language_info": {
   "codemirror_mode": {
    "name": "ipython",
    "version": 3
   },
   "file_extension": ".py",
   "mimetype": "text/x-python",
   "name": "python",
   "nbconvert_exporter": "python",
   "pygments_lexer": "ipython3",
   "version": "3.11.10"
  }
 },
 "nbformat": 4,
 "nbformat_minor": 2
}
